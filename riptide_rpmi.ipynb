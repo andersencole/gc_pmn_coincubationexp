{
 "cells": [
  {
   "cell_type": "code",
   "execution_count": 1,
   "id": "b245efb6-a4d5-4de2-b66b-dad46821b697",
   "metadata": {},
   "outputs": [],
   "source": [
    "import cobra.io\n",
    "import cobra\n",
    "from cobra import Model, Reaction, Metabolite\n",
    "import cobra.util.array\n",
    "import numpy\n",
    "import pandas as pd\n",
    "import csv\n",
    "import riptide\n",
    "import os"
   ]
  },
  {
   "cell_type": "code",
   "execution_count": 2,
   "id": "8ffa692f-8f36-4653-90de-b22a941da20b",
   "metadata": {},
   "outputs": [
    {
     "name": "stdout",
     "output_type": "stream",
     "text": [
      "CWD: /home/caandersen/2025_september/gc_mediaexp\n"
     ]
    }
   ],
   "source": [
    "print(\"CWD:\", os.getcwd()) #double-checking cwd"
   ]
  },
  {
   "cell_type": "code",
   "execution_count": 3,
   "id": "a1e8bb56-8b1c-48d2-9adc-692cdc6ced4f",
   "metadata": {},
   "outputs": [],
   "source": [
    "ngo557 = cobra.io.load_json_model('../NGO_557.json')"
   ]
  },
  {
   "cell_type": "code",
   "execution_count": 4,
   "id": "3de623fd-0ea3-40a7-b225-f48f78e56967",
   "metadata": {},
   "outputs": [],
   "source": [
    "model = ngo557"
   ]
  },
  {
   "cell_type": "code",
   "execution_count": 5,
   "id": "6ef9182a-d0e2-4fba-a46b-4611cbb7c5e1",
   "metadata": {},
   "outputs": [
    {
     "name": "stdout",
     "output_type": "stream",
     "text": [
      "iNGO_557 Maximize\n",
      "1.0*biomass - 1.0*biomass_reverse_01e59 <Solution 33.810 at 0x7efdc8e56270>\n"
     ]
    }
   ],
   "source": [
    "print (model.id, model.objective,model.optimize())"
   ]
  },
  {
   "cell_type": "code",
   "execution_count": 6,
   "id": "3aed8107-62db-4147-8551-e81f404d88d5",
   "metadata": {},
   "outputs": [],
   "source": [
    "gcb_req=set(['EX_h2o_e_','EX_co2_e_','EX_h_e_','EX_cys_L_e_','EX_mn2_e_','EX_mobd_e_','EX_cobalt2_e_','EX_cu2_e_','EX_zn2_e_','EX_pi_e_','EX_na1_e_','EX_cl_e_','EX_ala_L_e_','EX_arg_L_e_','EX_asn_L_e_','EX_asp_L_e_','EX_glu_L_e_','EX_gly_e_','EX_his_L_e_','EX_ile_L_e_','EX_leu_L_e_','EX_lys_L_e_','EX_met_L_e_','EX_phe_L_e_','EX_pro_L_e_','EX_ser_L_e_','EX_thr_L_e_','EX_trp_L_e_','EX_tyr_L_e_','EX_val_L_e_','EX_so4_e_','EX_ca2_e_','EX_fe3_e_','EX_mg2_e_','EX_k_e_','EX_gln_L_e_'])\n",
    "rpmi_req=set(['EX_cobalt2_e_','EX_cu2_e_','EX_fe3_e_','EX_mn2_e_','EX_mobd_e_','EX_zn2_e_','EX_ca2_e_','EX_no3_e_','EX_h2o_e_','EX_k_e_','EX_cl_e_','EX_mg2_e_','EX_so4_e_','EX_na1_e_','EX_pi_e_','EX_h_e_','EX_arg_L_e_','EX_asn_L_e_','EX_asp_L_e_','EX_cys_L_e_','EX_glu_L_e_','EX_gly_e_','EX_his_L_e_','EX_ile_L_e_','EX_leu_L_e_','EX_lys_L_e_','EX_met_L_e_','EX_phe_L_e_','EX_pro_L_e_','EX_ser_L_e_','EX_thr_L_e_','EX_trp_L_e_','EX_tyr_L_e_','EX_val_L_e_','EX_pnto_R_e_','EX_chol_e_','EX_inost_e_','EX_glc_D_e_','EX_gthrd_e_','EX_co2_e_'])\n",
    "mdm_req=set(['EX_co2_e_', 'EX_cobalt2_e_', 'EX_cu2_e_' , 'EX_h_e_', 'EX_h2o_e_','EX_mn2_e_','EX_mobd_e_','EX_tungs_e_', 'EX_zn2_e_','EX_na1_e_','EX_cl_e_','EX_k_e_','EX_so4_e_','EX_nh4_e_','EX_mg2_e_','EX_pi_e_','EX_ca2_e_','EX_fe3_e_','EX_no3_e_','EX_asp_L_e_','EX_glu_L_e_','EX_arg_L_e_','EX_gly_e_','EX_ser_L_e_','EX_leu_L_e_','EX_ile_L_e_','EX_val_L_e_','EX_tyr_L_e_','EX_cys_L_e_','EX_pro_L_e_','EX_trp_L_e_','EX_thr_L_e_','EX_phe_L_e_','EX_asn_L_e_','EX_gln_L_e_','EX_his_L_e_','EX_met_L_e_','EX_ala_L_e_','EX_lys_L_e_','EX_gthrd_e_','EX_thm_e_','EX_pnto_R_e_','EX_glc_D_e_','EX_hxan_e_','EX_ura_e_'])\n",
    "\n",
    "def rpmi(model):\n",
    "    for reaction in model.reactions:\n",
    "        if 'EX_' in  reaction.id:\n",
    "            reaction.lower_bound=0\n",
    "        if reaction.id in rpmi_req:\n",
    "            reaction.lower_bound = -10.\n",
    "        elif reaction.id == 'EX_o2_e_':\n",
    "            reaction.lower_bound = -20.\n",
    "        elif reaction.id == 'EX_glc_D_e_':\n",
    "            reaction.lower_bound = -10.\n",
    "            \n",
    "def gcb(model):\n",
    "    for reaction in model.reactions:\n",
    "        if 'EX_' in  reaction.id:\n",
    "            reaction.lower_bound=0\n",
    "        if reaction.id in gcb_req:\n",
    "            reaction.lower_bound = -10.\n",
    "        elif reaction.id == 'EX_o2_e_':\n",
    "            reaction.lower_bound = -20.\n",
    "        elif reaction.id == 'EX_glc_D_e_':\n",
    "            reaction.lower_bound = -10.\n",
    "\n",
    "def mdm(model):\n",
    "    for reaction in model.reactions:\n",
    "        if 'EX_' in  reaction.id:\n",
    "            reaction.lower_bound=0\n",
    "        if reaction.id in mdm_req:\n",
    "            reaction.lower_bound = -10.\n",
    "        elif reaction.id == 'EX_o2_e_':\n",
    "            reaction.lower_bound = -20.\n",
    "        elif reaction.id == 'EX_glc_D_e_':\n",
    "            reaction.lower_bound = -10.\n",
    "            \n",
    "def mdm_molarity(model):\n",
    "    for reaction in model.reactions:\n",
    "        if 'EX_' in  reaction.id:\n",
    "            reaction.lower_bound=0\n",
    "        if reaction.id in mdm_req:\n",
    "            reaction.lower_bound = -1000.\n",
    "        if 'EX_glc_D_e_' in reaction.id:\n",
    "            reaction.lower_bound = -27.8\n",
    "        if 'EX_ser_L_e_' in reaction.id:\n",
    "            reaction.lower_bound = -0.48\n",
    "        if 'EX_asp_L_e_' in reaction.id:\n",
    "            reaction.lower_bound = -3.76\n",
    "        if 'EX_asn_L_e_' in reaction.id:\n",
    "            reaction.lower_bound = -0.17\n",
    "        if 'EX_glu_L_e_' in reaction.id:\n",
    "            reaction.lower_bound = -8.84\n",
    "        if 'EX_gly_e_' in reaction.id:\n",
    "            reaction.lower_bound = -0.33\n",
    "        if 'EX_ala_L_e_' in reaction.id:\n",
    "            reaction.lower_bound = -1.12\n",
    "        if 'EX_val_L_e_' in reaction.id:\n",
    "            reaction.lower_bound = -0.51\n",
    "        if 'EX_leu_L_e_' in reaction.id:\n",
    "            reaction.lower_bound = -0.69\n",
    "        if 'EX_gln_L_e_' in reaction.id:\n",
    "            reaction.lower_bound = -0.34\n",
    "        if 'EX_pro_L_e_' in reaction.id:\n",
    "            reaction.lower_bound = -0.43\n",
    "        if 'EX_phe_L_e_' in reaction.id:\n",
    "            reaction.lower_bound = -0.15\n",
    "        if 'EX_lys_L_e_' in reaction.id:\n",
    "            reaction.lower_bound = -0.27\n",
    "        if 'EX_cl_e_' in reaction.id:\n",
    "            reaction.lower_bound = -107.94697\n",
    "        if 'EX_k_e_' in reaction.id:\n",
    "            reaction.lower_bound = -11.48\n",
    "        if 'EX_so4_e_' in reaction.id:\n",
    "            reaction.lower_bound = -5.74\n",
    "        if 'EX_nh4_e_' in reaction.id:\n",
    "            reaction.lower_bound = -4.11\n",
    "        if 'EX_mg2_e_' in reaction.id:\n",
    "            reaction.lower_bound = -1.07\n",
    "        if 'EX_lys_L_e_' in reaction.id:\n",
    "            reaction.lower_bound = -0.27\n",
    "        if 'EX_pi_e_' in reaction.id:\n",
    "            reaction.lower_bound = -40\n",
    "        if 'EX_ca2_e_' in reaction.id:\n",
    "            reaction.lower_bound = -0.254\n",
    "        if 'EX_no3_e_' in reaction.id:\n",
    "            reaction.lower_bound = -0.051\n",
    "        if 'EX_arg_L_e_' in reaction.id:\n",
    "            reaction.lower_bound = -0.71\n",
    "        if 'EX_ile_L_e_' in reaction.id:\n",
    "            reaction.lower_bound = -0.23\n",
    "        if 'EX_tyr_L_e_' in reaction.id:\n",
    "            reaction.lower_bound = -0.39\n",
    "        if 'EX_cys_L_e_' in reaction.id:\n",
    "            reaction.lower_bound = -0.65\n",
    "        if 'EX_trp_L_e_' in reaction.id:\n",
    "            reaction.lower_bound = -0.39\n",
    "        if 'EX_thr_L_e_' in reaction.id:\n",
    "            reaction.lower_bound = -0.42\n",
    "        if 'EX_his_L_e_' in reaction.id:\n",
    "            reaction.lower_bound = -0.13\n",
    "        if 'EX_met_L_e_' in reaction.id:\n",
    "            reaction.lower_bound = -0.1\n",
    "        if 'EX_gthrd_e_' in reaction.id:\n",
    "            reaction.lower_bound = -0.15\n",
    "        if 'EX_thm_e_' in reaction.id:\n",
    "            reaction.lower_bound = -0.00697\n",
    "        if 'EX_pnto_R_e_' in reaction.id:\n",
    "            reaction.lower_bound = -0.004\n",
    "        if 'EX_hxan_e_' in reaction.id:\n",
    "            reaction.lower_bound = -0.37\n",
    "        if 'EX_ura_e_' in reaction.id:\n",
    "            reaction.lower_bound = -0.45  \n",
    "        if 'EX_na1_e_' in reaction.id:\n",
    "            reaction.lower_bound = -105.018\n",
    "        elif reaction.id == 'EX_o2_e_':\n",
    "            reaction.lower_bound = -20\n",
    "            \n",
    "def gcb_molarity(model):\n",
    "    for reaction in model.reactions:\n",
    "        if 'EX_' in  reaction.id:\n",
    "            reaction.lower_bound=0\n",
    "        if reaction.id in gcb_req:\n",
    "            reaction.lower_bound = -1000.\n",
    "        if 'EX_glc_D_e_' in reaction.id:\n",
    "            reaction.lower_bound = -22.20299\n",
    "        if 'EX_ser_L_e_' in reaction.id:\n",
    "            reaction.lower_bound = -2.28370028\n",
    "        if 'EX_asp_L_e_' in reaction.id:\n",
    "            reaction.lower_bound = -5.747441637\n",
    "        if 'EX_asn_L_e_' in reaction.id:\n",
    "            reaction.lower_bound = -0.3406048688\n",
    "        if 'EX_glu_L_e_' in reaction.id:\n",
    "            reaction.lower_bound = -8.156091275\n",
    "        if 'EX_gly_e_' in reaction.id:\n",
    "            reaction.lower_bound = -12.98846624\n",
    "        if 'EX_ala_L_e_' in reaction.id:\n",
    "            reaction.lower_bound = -8.754876915\n",
    "        if 'EX_val_L_e_' in reaction.id:\n",
    "            reaction.lower_bound = -44.81575602\n",
    "        if 'EX_leu_L_e_' in reaction.id:\n",
    "            reaction.lower_bound = -6.403761753\n",
    "        if 'EX_gln_L_e_' in reaction.id:\n",
    "            reaction.lower_bound = -0.68425\n",
    "        if 'EX_pro_L_e_' in reaction.id:\n",
    "            reaction.lower_bound = -4.95090354\n",
    "        if 'EX_phe_L_e_' in reaction.id:\n",
    "            reaction.lower_bound = -3.1781758\n",
    "        if 'EX_lys_L_e_' in reaction.id:\n",
    "            reaction.lower_bound = -4.309531041\n",
    "        if 'EX_k_e_' in reaction.id:\n",
    "            reaction.lower_bound = -28.01410255\n",
    "        if 'EX_pi_e_' in reaction.id:\n",
    "            reaction.lower_bound = -32.69853966\n",
    "        if 'EX_na1_e_' in reaction.id:\n",
    "            reaction.lower_bound = -127.3607438\n",
    "        if 'EX_cl_e_' in reaction.id:\n",
    "            reaction.lower_bound = -113.2400004\n",
    "        if 'EX_ca2_e_' in reaction.id:\n",
    "            reaction.lower_bound = -0.04940366286\n",
    "        if 'EX_mg2_e_' in reaction.id:\n",
    "            reaction.lower_bound = -0.06356716725\n",
    "        if 'EX_so4_e_' in reaction.id:\n",
    "            reaction.lower_bound = -0.57774826\n",
    "        if 'EX_arg_L_e_' in reaction.id:\n",
    "            reaction.lower_bound = -3.702619388\n",
    "        if 'EX_cys_L_e_' in reaction.id:\n",
    "            reaction.lower_bound = -0.3745310559\n",
    "        if 'EX_his_L_e_' in reaction.id:\n",
    "            reaction.lower_bound = -1.256810949\n",
    "        if 'EX_ile_L_e_' in reaction.id:\n",
    "            reaction.lower_bound = -3.65929243\n",
    "        if 'EX_met_L_e_' in reaction.id:\n",
    "            reaction.lower_bound = -1.306871531\n",
    "        if 'EX_thr_L_e_' in reaction.id:\n",
    "            reaction.lower_bound = -1.888864264\n",
    "        if 'EX_trp_L_e_' in reaction.id:\n",
    "            reaction.lower_bound = -0.2203449917\n",
    "        if 'EX_tyr_L_e_' in reaction.id:\n",
    "            reaction.lower_bound = -1.324587377\n",
    "        if 'EX_no3_e_' in reaction.id:\n",
    "            reaction.lower_bound = -0.00371\n",
    "        elif reaction.id == 'EX_o2_e_':\n",
    "            reaction.lower_bound = -20.\n",
    "            \n",
    "def rpmi_molarity(model):\n",
    "    for reaction in model.reactions:\n",
    "        if 'EX_' in  reaction.id:\n",
    "            reaction.lower_bound=0\n",
    "        if reaction.id in rpmi_req:\n",
    "            reaction.lower_bound = -1000. \n",
    "        \n",
    "        if 'EX_glc_D_e_' in reaction.id:\n",
    "            reaction.lower_bound = -11.1012\n",
    "        if 'EX_ser_L_e_' in reaction.id:\n",
    "            reaction.lower_bound = -0.2855\n",
    "        if 'EX_asp_L_e_' in reaction.id:\n",
    "            reaction.lower_bound = -0.1503\n",
    "        if 'EX_asn_L_e_' in reaction.id:\n",
    "            reaction.lower_bound = -0.3784\n",
    "        if 'EX_glu_L_e_' in reaction.id:\n",
    "            reaction.lower_bound = -0.1359\n",
    "        if 'EX_gly_e_' in reaction.id:\n",
    "            reaction.lower_bound = -0.1332\n",
    "        if 'EX_val_L_e_' in reaction.id:\n",
    "            reaction.lower_bound = -0.1707\n",
    "        if 'EX_leu_L_e_' in reaction.id:\n",
    "            reaction.lower_bound = -0.3812\n",
    "        if 'EX_pro_L_e_' in reaction.id:\n",
    "            reaction.lower_bound = -0.1737\n",
    "        if 'EX_phe_L_e_' in reaction.id:\n",
    "            reaction.lower_bound = -0.0908\n",
    "        if 'EX_lys_L_e_' in reaction.id:\n",
    "            reaction.lower_bound = -0.219\n",
    "        if 'EX_ca2_e_' in reaction.id:\n",
    "            reaction.lower_bound = -0.424\n",
    "        if 'EX_no3_e_' in reaction.id:\n",
    "            reaction.lower_bound = -0.847\n",
    "        if 'EX_k_e_' in reaction.id:\n",
    "            reaction.lower_bound = -5.3655\n",
    "        if 'EX_cl_e_' in reaction.id:\n",
    "            reaction.lower_bound = -108.6993\n",
    "        if 'EX_mg2_e_' in reaction.id:\n",
    "            reaction.lower_bound = -0.4056\n",
    "        if 'EX_so4_e_' in reaction.id:\n",
    "            reaction.lower_bound = -0.4056\n",
    "        if 'EX_na1_e_' in reaction.id:\n",
    "            reaction.lower_bound = -137.9818\n",
    "        if 'EX_pi_e_' in reaction.id:\n",
    "            reaction.lower_bound = -56.354\n",
    "        if 'EX_arg_L_e_' in reaction.id:\n",
    "            reaction.lower_bound = -1.1481\n",
    "        if 'EX_cys_L_e_' in reaction.id:\n",
    "            reaction.lower_bound = -0.416\n",
    "        if 'EX_his_L_e_' in reaction.id:\n",
    "            reaction.lower_bound = -0.0967\n",
    "        if 'EX_ile_L_e_' in reaction.id:\n",
    "            reaction.lower_bound = -0.3812\n",
    "        if 'EX_met_L_e_' in reaction.id:\n",
    "            reaction.lower_bound = -0.1005\n",
    "        if 'EX_thr_L_e_' in reaction.id:\n",
    "            reaction.lower_bound = -0.1679\n",
    "        if 'EX_trp_L_e_' in reaction.id:\n",
    "            reaction.lower_bound = -0.0245\n",
    "        if 'EX_lys_L_e_' in reaction.id:\n",
    "            reaction.lower_bound = -0.219\n",
    "        if 'EX_tyr_L_e_' in reaction.id:\n",
    "            reaction.lower_bound = -0.1104\n",
    "        if 'EX_pnto_R_e_' in reaction.id:\n",
    "            reaction.lower_bound = -0.001\n",
    "        if 'EX_chol_e_' in reaction.id:\n",
    "            reaction.lower_bound = -0.0215\n",
    "        if 'EX_inost_e_' in reaction.id:\n",
    "            reaction.lower_bound = -0.1943\n",
    "        if 'EX_gthrd_e_' in reaction.id:\n",
    "            reaction.lower_bound = -0.0033\n",
    "        elif reaction.id == 'EX_o2_e_':\n",
    "            reaction.lower_bound = -20.\n",
    "            "
   ]
  },
  {
   "cell_type": "code",
   "execution_count": 7,
   "id": "be3c8a89-69d1-43a1-bd8a-d123e22b4a0a",
   "metadata": {},
   "outputs": [],
   "source": [
    "ts_ngo_0h_130 = riptide.read_transcription_file(\"../../2025_august/weekof_0825/gc_withpmn_riptide_exp/inputdata/input_transcript/ngoids_0h_130.txt\", header=True)\n",
    "ts_ngo_1h_130 = riptide.read_transcription_file(\"../../2025_august/weekof_0825/gc_withpmn_riptide_exp/inputdata/input_transcript/ngoids_1h_130.txt\", header=True)\n",
    "ts_ngo_0h_3x130 = riptide.read_transcription_file(\"../../2025_august/weekof_0825/gc_withpmn_riptide_exp/inputdata/input_transcript/ngoids_0h_3x130.txt\", header=True)\n",
    "ts_ngo_1h_3x130 = riptide.read_transcription_file(\"../../2025_august/weekof_0825/gc_withpmn_riptide_exp/inputdata/input_transcript/ngoids_1h_3x130.txt\", header=True)\n",
    "ts_ngo_0h_h041 = riptide.read_transcription_file(\"../../2025_august/weekof_0825/gc_withpmn_riptide_exp/inputdata/input_transcript/ngoids_0h_h041.txt\", header=True)\n",
    "ts_ngo_1h_h041 = riptide.read_transcription_file(\"../../2025_august/weekof_0825/gc_withpmn_riptide_exp/inputdata/input_transcript/ngoids_1h_h041.txt\", header=True)"
   ]
  },
  {
   "cell_type": "code",
   "execution_count": 8,
   "id": "ac0eaa61-b498-4366-9de7-0e495c77561d",
   "metadata": {},
   "outputs": [],
   "source": [
    "model.objective = model.reactions.get_by_id('biomass')"
   ]
  },
  {
   "cell_type": "code",
   "execution_count": 9,
   "id": "1c9db82f-a519-498a-9ed1-d5c9f1403cac",
   "metadata": {},
   "outputs": [
    {
     "name": "stdout",
     "output_type": "stream",
     "text": [
      "\n",
      "Running max fit RIPTiDe for objective fraction range: 0.35 to 0.95 with intervals of 0.05 \n",
      "\n",
      "Testing minimum objective fractions...\n"
     ]
    },
    {
     "name": "stderr",
     "output_type": "stream",
     "text": [
      "/home/caandersen/.conda/envs/riptide_3.3.6/lib/python3.13/multiprocessing/popen_fork.py:67: DeprecationWarning: This process (pid=6085) is multi-threaded, use of fork() may lead to deadlocks in the child.\n",
      "  self.pid = os.fork()\n"
     ]
    },
    {
     "name": "stdout",
     "output_type": "stream",
     "text": [
      "Fraction = 0.35 | Rho = 0.1635 ; p = 0.0002\n"
     ]
    },
    {
     "name": "stderr",
     "output_type": "stream",
     "text": [
      "/home/caandersen/.conda/envs/riptide_3.3.6/lib/python3.13/multiprocessing/popen_fork.py:67: DeprecationWarning: This process (pid=6085) is multi-threaded, use of fork() may lead to deadlocks in the child.\n",
      "  self.pid = os.fork()\n"
     ]
    },
    {
     "name": "stdout",
     "output_type": "stream",
     "text": [
      "Fraction = 0.4 | Rho = 0.1638 ; p = 0.0002\n"
     ]
    },
    {
     "name": "stderr",
     "output_type": "stream",
     "text": [
      "/home/caandersen/.conda/envs/riptide_3.3.6/lib/python3.13/multiprocessing/popen_fork.py:67: DeprecationWarning: This process (pid=6085) is multi-threaded, use of fork() may lead to deadlocks in the child.\n",
      "  self.pid = os.fork()\n"
     ]
    },
    {
     "name": "stdout",
     "output_type": "stream",
     "text": [
      "Fraction = 0.45 | Rho = 0.1653 ; p = 0.0002\n"
     ]
    },
    {
     "name": "stderr",
     "output_type": "stream",
     "text": [
      "/home/caandersen/.conda/envs/riptide_3.3.6/lib/python3.13/multiprocessing/popen_fork.py:67: DeprecationWarning: This process (pid=6085) is multi-threaded, use of fork() may lead to deadlocks in the child.\n",
      "  self.pid = os.fork()\n"
     ]
    },
    {
     "name": "stdout",
     "output_type": "stream",
     "text": [
      "Fraction = 0.5 | Rho = 0.1661 ; p = 0.0002\n"
     ]
    },
    {
     "name": "stderr",
     "output_type": "stream",
     "text": [
      "/home/caandersen/.conda/envs/riptide_3.3.6/lib/python3.13/multiprocessing/popen_fork.py:67: DeprecationWarning: This process (pid=6085) is multi-threaded, use of fork() may lead to deadlocks in the child.\n",
      "  self.pid = os.fork()\n"
     ]
    },
    {
     "name": "stdout",
     "output_type": "stream",
     "text": [
      "Fraction = 0.55 | Rho = 0.1899 ; p = 0.0\n"
     ]
    },
    {
     "name": "stderr",
     "output_type": "stream",
     "text": [
      "/home/caandersen/.conda/envs/riptide_3.3.6/lib/python3.13/multiprocessing/popen_fork.py:67: DeprecationWarning: This process (pid=6085) is multi-threaded, use of fork() may lead to deadlocks in the child.\n",
      "  self.pid = os.fork()\n"
     ]
    },
    {
     "name": "stdout",
     "output_type": "stream",
     "text": [
      "Fraction = 0.6 | Rho = 0.1892 ; p = 0.0\n"
     ]
    },
    {
     "name": "stderr",
     "output_type": "stream",
     "text": [
      "/home/caandersen/.conda/envs/riptide_3.3.6/lib/python3.13/multiprocessing/popen_fork.py:67: DeprecationWarning: This process (pid=6085) is multi-threaded, use of fork() may lead to deadlocks in the child.\n",
      "  self.pid = os.fork()\n"
     ]
    },
    {
     "name": "stdout",
     "output_type": "stream",
     "text": [
      "Fraction = 0.65 | Rho = 0.1903 ; p = 0.0\n"
     ]
    },
    {
     "name": "stderr",
     "output_type": "stream",
     "text": [
      "/home/caandersen/.conda/envs/riptide_3.3.6/lib/python3.13/multiprocessing/popen_fork.py:67: DeprecationWarning: This process (pid=6085) is multi-threaded, use of fork() may lead to deadlocks in the child.\n",
      "  self.pid = os.fork()\n"
     ]
    },
    {
     "name": "stdout",
     "output_type": "stream",
     "text": [
      "Fraction = 0.7 | Rho = 0.1873 ; p = 0.0\n"
     ]
    },
    {
     "name": "stderr",
     "output_type": "stream",
     "text": [
      "/home/caandersen/.conda/envs/riptide_3.3.6/lib/python3.13/multiprocessing/popen_fork.py:67: DeprecationWarning: This process (pid=6085) is multi-threaded, use of fork() may lead to deadlocks in the child.\n",
      "  self.pid = os.fork()\n"
     ]
    },
    {
     "name": "stdout",
     "output_type": "stream",
     "text": [
      "Fraction = 0.75 | Rho = 0.1844 ; p = 0.0\n"
     ]
    },
    {
     "name": "stderr",
     "output_type": "stream",
     "text": [
      "/home/caandersen/.conda/envs/riptide_3.3.6/lib/python3.13/multiprocessing/popen_fork.py:67: DeprecationWarning: This process (pid=6085) is multi-threaded, use of fork() may lead to deadlocks in the child.\n",
      "  self.pid = os.fork()\n"
     ]
    },
    {
     "name": "stdout",
     "output_type": "stream",
     "text": [
      "Fraction = 0.8 | Rho = 0.1742 ; p = 0.0001\n"
     ]
    },
    {
     "name": "stderr",
     "output_type": "stream",
     "text": [
      "/home/caandersen/.conda/envs/riptide_3.3.6/lib/python3.13/multiprocessing/popen_fork.py:67: DeprecationWarning: This process (pid=6085) is multi-threaded, use of fork() may lead to deadlocks in the child.\n",
      "  self.pid = os.fork()\n"
     ]
    },
    {
     "name": "stdout",
     "output_type": "stream",
     "text": [
      "Fraction = 0.85 | Rho = 0.1947 ; p = 0.0\n"
     ]
    },
    {
     "name": "stderr",
     "output_type": "stream",
     "text": [
      "/home/caandersen/.conda/envs/riptide_3.3.6/lib/python3.13/multiprocessing/popen_fork.py:67: DeprecationWarning: This process (pid=6085) is multi-threaded, use of fork() may lead to deadlocks in the child.\n",
      "  self.pid = os.fork()\n"
     ]
    },
    {
     "name": "stdout",
     "output_type": "stream",
     "text": [
      "Fraction = 0.9 | Rho = 0.208 ; p = 0.0\n",
      "Testing local objective fractions to 0.9...\n"
     ]
    },
    {
     "name": "stderr",
     "output_type": "stream",
     "text": [
      "/home/caandersen/.conda/envs/riptide_3.3.6/lib/python3.13/multiprocessing/popen_fork.py:67: DeprecationWarning: This process (pid=6085) is multi-threaded, use of fork() may lead to deadlocks in the child.\n",
      "  self.pid = os.fork()\n"
     ]
    },
    {
     "name": "stdout",
     "output_type": "stream",
     "text": [
      "Fraction = 0.875 | Rho = 0.1968 ; p = 0.0\n"
     ]
    },
    {
     "name": "stderr",
     "output_type": "stream",
     "text": [
      "/home/caandersen/.conda/envs/riptide_3.3.6/lib/python3.13/multiprocessing/popen_fork.py:67: DeprecationWarning: This process (pid=6085) is multi-threaded, use of fork() may lead to deadlocks in the child.\n",
      "  self.pid = os.fork()\n"
     ]
    },
    {
     "name": "stdout",
     "output_type": "stream",
     "text": [
      "Fraction = 0.925 | Rho = 0.2092 ; p = 0.0\n",
      "\n",
      "Context-specific metabolism fit with 0.925 of optimal objective flux\n",
      "\n",
      "Reactions pruned to 510 from 1424 (64.19% change)\n",
      "Metabolites pruned to 503 from 1263 (60.17% change)\n",
      "Flux through the objective DECREASED to ~32.3 from ~33.81 (4.47% change)\n",
      "Context-specific metabolism correlates with transcriptome (r=0.209, p<0.001 *)\n",
      "\n",
      "Maxfit RIPTiDe completed in, 5 minutes and 0 second \n",
      "\n"
     ]
    }
   ],
   "source": [
    "mf_ngo_0h_130 = riptide.maxfit_contextualize(model=model, transcriptome=ts_ngo_0h_130)"
   ]
  },
  {
   "cell_type": "code",
   "execution_count": 10,
   "id": "b48f63fd-6ef1-44c2-93bf-97d64bc3fbb7",
   "metadata": {},
   "outputs": [
    {
     "name": "stdout",
     "output_type": "stream",
     "text": [
      "\n",
      "Running max fit RIPTiDe for objective fraction range: 0.35 to 0.95 with intervals of 0.05 \n",
      "\n",
      "Testing minimum objective fractions...\n"
     ]
    },
    {
     "name": "stderr",
     "output_type": "stream",
     "text": [
      "/home/caandersen/.conda/envs/riptide_3.3.6/lib/python3.13/multiprocessing/popen_fork.py:67: DeprecationWarning: This process (pid=6085) is multi-threaded, use of fork() may lead to deadlocks in the child.\n",
      "  self.pid = os.fork()\n"
     ]
    },
    {
     "name": "stdout",
     "output_type": "stream",
     "text": [
      "Fraction = 0.35 | Rho = 0.1194 ; p = 0.006\n"
     ]
    },
    {
     "name": "stderr",
     "output_type": "stream",
     "text": [
      "/home/caandersen/.conda/envs/riptide_3.3.6/lib/python3.13/multiprocessing/popen_fork.py:67: DeprecationWarning: This process (pid=6085) is multi-threaded, use of fork() may lead to deadlocks in the child.\n",
      "  self.pid = os.fork()\n"
     ]
    },
    {
     "name": "stdout",
     "output_type": "stream",
     "text": [
      "Fraction = 0.4 | Rho = 0.1367 ; p = 0.0016\n"
     ]
    },
    {
     "name": "stderr",
     "output_type": "stream",
     "text": [
      "/home/caandersen/.conda/envs/riptide_3.3.6/lib/python3.13/multiprocessing/popen_fork.py:67: DeprecationWarning: This process (pid=6085) is multi-threaded, use of fork() may lead to deadlocks in the child.\n",
      "  self.pid = os.fork()\n"
     ]
    },
    {
     "name": "stdout",
     "output_type": "stream",
     "text": [
      "Fraction = 0.45 | Rho = 0.1411 ; p = 0.0012\n"
     ]
    },
    {
     "name": "stderr",
     "output_type": "stream",
     "text": [
      "/home/caandersen/.conda/envs/riptide_3.3.6/lib/python3.13/multiprocessing/popen_fork.py:67: DeprecationWarning: This process (pid=6085) is multi-threaded, use of fork() may lead to deadlocks in the child.\n",
      "  self.pid = os.fork()\n"
     ]
    },
    {
     "name": "stdout",
     "output_type": "stream",
     "text": [
      "Fraction = 0.5 | Rho = 0.1294 ; p = 0.0029\n"
     ]
    },
    {
     "name": "stderr",
     "output_type": "stream",
     "text": [
      "/home/caandersen/.conda/envs/riptide_3.3.6/lib/python3.13/multiprocessing/popen_fork.py:67: DeprecationWarning: This process (pid=6085) is multi-threaded, use of fork() may lead to deadlocks in the child.\n",
      "  self.pid = os.fork()\n"
     ]
    },
    {
     "name": "stdout",
     "output_type": "stream",
     "text": [
      "Fraction = 0.55 | Rho = 0.0983 ; p = 0.0234\n"
     ]
    },
    {
     "name": "stderr",
     "output_type": "stream",
     "text": [
      "/home/caandersen/.conda/envs/riptide_3.3.6/lib/python3.13/multiprocessing/popen_fork.py:67: DeprecationWarning: This process (pid=6085) is multi-threaded, use of fork() may lead to deadlocks in the child.\n",
      "  self.pid = os.fork()\n"
     ]
    },
    {
     "name": "stdout",
     "output_type": "stream",
     "text": [
      "Fraction = 0.6 | Rho = 0.1171 ; p = 0.0069\n"
     ]
    },
    {
     "name": "stderr",
     "output_type": "stream",
     "text": [
      "/home/caandersen/.conda/envs/riptide_3.3.6/lib/python3.13/multiprocessing/popen_fork.py:67: DeprecationWarning: This process (pid=6085) is multi-threaded, use of fork() may lead to deadlocks in the child.\n",
      "  self.pid = os.fork()\n"
     ]
    },
    {
     "name": "stdout",
     "output_type": "stream",
     "text": [
      "Fraction = 0.65 | Rho = 0.1526 ; p = 0.0004\n"
     ]
    },
    {
     "name": "stderr",
     "output_type": "stream",
     "text": [
      "/home/caandersen/.conda/envs/riptide_3.3.6/lib/python3.13/multiprocessing/popen_fork.py:67: DeprecationWarning: This process (pid=6085) is multi-threaded, use of fork() may lead to deadlocks in the child.\n",
      "  self.pid = os.fork()\n"
     ]
    },
    {
     "name": "stdout",
     "output_type": "stream",
     "text": [
      "Fraction = 0.7 | Rho = 0.1504 ; p = 0.0005\n"
     ]
    },
    {
     "name": "stderr",
     "output_type": "stream",
     "text": [
      "/home/caandersen/.conda/envs/riptide_3.3.6/lib/python3.13/multiprocessing/popen_fork.py:67: DeprecationWarning: This process (pid=6085) is multi-threaded, use of fork() may lead to deadlocks in the child.\n",
      "  self.pid = os.fork()\n"
     ]
    },
    {
     "name": "stdout",
     "output_type": "stream",
     "text": [
      "Fraction = 0.75 | Rho = 0.1603 ; p = 0.0002\n"
     ]
    },
    {
     "name": "stderr",
     "output_type": "stream",
     "text": [
      "/home/caandersen/.conda/envs/riptide_3.3.6/lib/python3.13/multiprocessing/popen_fork.py:67: DeprecationWarning: This process (pid=6085) is multi-threaded, use of fork() may lead to deadlocks in the child.\n",
      "  self.pid = os.fork()\n"
     ]
    },
    {
     "name": "stdout",
     "output_type": "stream",
     "text": [
      "Fraction = 0.8 | Rho = 0.1423 ; p = 0.001\n"
     ]
    },
    {
     "name": "stderr",
     "output_type": "stream",
     "text": [
      "/home/caandersen/.conda/envs/riptide_3.3.6/lib/python3.13/multiprocessing/popen_fork.py:67: DeprecationWarning: This process (pid=6085) is multi-threaded, use of fork() may lead to deadlocks in the child.\n",
      "  self.pid = os.fork()\n"
     ]
    },
    {
     "name": "stdout",
     "output_type": "stream",
     "text": [
      "Fraction = 0.85 | Rho = 0.1062 ; p = 0.0146\n"
     ]
    },
    {
     "name": "stderr",
     "output_type": "stream",
     "text": [
      "/home/caandersen/.conda/envs/riptide_3.3.6/lib/python3.13/multiprocessing/popen_fork.py:67: DeprecationWarning: This process (pid=6085) is multi-threaded, use of fork() may lead to deadlocks in the child.\n",
      "  self.pid = os.fork()\n"
     ]
    },
    {
     "name": "stdout",
     "output_type": "stream",
     "text": [
      "Fraction = 0.9 | Rho = 0.1335 ; p = 0.002\n",
      "Testing local objective fractions to 0.75...\n"
     ]
    },
    {
     "name": "stderr",
     "output_type": "stream",
     "text": [
      "/home/caandersen/.conda/envs/riptide_3.3.6/lib/python3.13/multiprocessing/popen_fork.py:67: DeprecationWarning: This process (pid=6085) is multi-threaded, use of fork() may lead to deadlocks in the child.\n",
      "  self.pid = os.fork()\n"
     ]
    },
    {
     "name": "stdout",
     "output_type": "stream",
     "text": [
      "Fraction = 0.725 | Rho = 0.0864 ; p = 0.0463\n"
     ]
    },
    {
     "name": "stderr",
     "output_type": "stream",
     "text": [
      "/home/caandersen/.conda/envs/riptide_3.3.6/lib/python3.13/multiprocessing/popen_fork.py:67: DeprecationWarning: This process (pid=6085) is multi-threaded, use of fork() may lead to deadlocks in the child.\n",
      "  self.pid = os.fork()\n"
     ]
    },
    {
     "name": "stdout",
     "output_type": "stream",
     "text": [
      "Fraction = 0.775 | Rho = 0.1004 ; p = 0.0206\n",
      "\n",
      "Context-specific metabolism fit with 0.75 of optimal objective flux\n",
      "\n",
      "Reactions pruned to 532 from 1424 (62.64% change)\n",
      "Metabolites pruned to 505 from 1263 (60.02% change)\n",
      "Flux through the objective DECREASED to ~29.72 from ~33.81 (12.1% change)\n",
      "Context-specific metabolism correlates with transcriptome (r=0.16, p<0.001 *)\n",
      "\n",
      "Maxfit RIPTiDe completed in, 7 minutes and 42 seconds \n",
      "\n"
     ]
    }
   ],
   "source": [
    "mf_ngo_1h_130 = riptide.maxfit_contextualize(model=model, transcriptome=ts_ngo_1h_130)"
   ]
  },
  {
   "cell_type": "code",
   "execution_count": 11,
   "id": "68febd3d-d1d4-4c16-93ff-8e75320d04e5",
   "metadata": {},
   "outputs": [
    {
     "name": "stdout",
     "output_type": "stream",
     "text": [
      "\n",
      "Running max fit RIPTiDe for objective fraction range: 0.35 to 0.95 with intervals of 0.05 \n",
      "\n",
      "Testing minimum objective fractions...\n"
     ]
    },
    {
     "name": "stderr",
     "output_type": "stream",
     "text": [
      "/home/caandersen/.conda/envs/riptide_3.3.6/lib/python3.13/multiprocessing/popen_fork.py:67: DeprecationWarning: This process (pid=6085) is multi-threaded, use of fork() may lead to deadlocks in the child.\n",
      "  self.pid = os.fork()\n"
     ]
    },
    {
     "name": "stdout",
     "output_type": "stream",
     "text": [
      "Fraction = 0.35 | Rho = 0.1298 ; p = 0.0028\n"
     ]
    },
    {
     "name": "stderr",
     "output_type": "stream",
     "text": [
      "/home/caandersen/.conda/envs/riptide_3.3.6/lib/python3.13/multiprocessing/popen_fork.py:67: DeprecationWarning: This process (pid=6085) is multi-threaded, use of fork() may lead to deadlocks in the child.\n",
      "  self.pid = os.fork()\n"
     ]
    },
    {
     "name": "stdout",
     "output_type": "stream",
     "text": [
      "Fraction = 0.4 | Rho = 0.1235 ; p = 0.0045\n"
     ]
    },
    {
     "name": "stderr",
     "output_type": "stream",
     "text": [
      "/home/caandersen/.conda/envs/riptide_3.3.6/lib/python3.13/multiprocessing/popen_fork.py:67: DeprecationWarning: This process (pid=6085) is multi-threaded, use of fork() may lead to deadlocks in the child.\n",
      "  self.pid = os.fork()\n"
     ]
    },
    {
     "name": "stdout",
     "output_type": "stream",
     "text": [
      "Fraction = 0.45 | Rho = 0.1277 ; p = 0.0033\n"
     ]
    },
    {
     "name": "stderr",
     "output_type": "stream",
     "text": [
      "/home/caandersen/.conda/envs/riptide_3.3.6/lib/python3.13/multiprocessing/popen_fork.py:67: DeprecationWarning: This process (pid=6085) is multi-threaded, use of fork() may lead to deadlocks in the child.\n",
      "  self.pid = os.fork()\n"
     ]
    },
    {
     "name": "stdout",
     "output_type": "stream",
     "text": [
      "Fraction = 0.5 | Rho = 0.1369 ; p = 0.0016\n"
     ]
    },
    {
     "name": "stderr",
     "output_type": "stream",
     "text": [
      "/home/caandersen/.conda/envs/riptide_3.3.6/lib/python3.13/multiprocessing/popen_fork.py:67: DeprecationWarning: This process (pid=6085) is multi-threaded, use of fork() may lead to deadlocks in the child.\n",
      "  self.pid = os.fork()\n"
     ]
    },
    {
     "name": "stdout",
     "output_type": "stream",
     "text": [
      "Fraction = 0.55 | Rho = 0.1182 ; p = 0.0069\n"
     ]
    },
    {
     "name": "stderr",
     "output_type": "stream",
     "text": [
      "/home/caandersen/.conda/envs/riptide_3.3.6/lib/python3.13/multiprocessing/popen_fork.py:67: DeprecationWarning: This process (pid=6085) is multi-threaded, use of fork() may lead to deadlocks in the child.\n",
      "  self.pid = os.fork()\n"
     ]
    },
    {
     "name": "stdout",
     "output_type": "stream",
     "text": [
      "Fraction = 0.6 | Rho = 0.1014 ; p = 0.0206\n"
     ]
    },
    {
     "name": "stderr",
     "output_type": "stream",
     "text": [
      "/home/caandersen/.conda/envs/riptide_3.3.6/lib/python3.13/multiprocessing/popen_fork.py:67: DeprecationWarning: This process (pid=6085) is multi-threaded, use of fork() may lead to deadlocks in the child.\n",
      "  self.pid = os.fork()\n"
     ]
    },
    {
     "name": "stdout",
     "output_type": "stream",
     "text": [
      "Fraction = 0.65 | Rho = 0.1132 ; p = 0.0096\n"
     ]
    },
    {
     "name": "stderr",
     "output_type": "stream",
     "text": [
      "/home/caandersen/.conda/envs/riptide_3.3.6/lib/python3.13/multiprocessing/popen_fork.py:67: DeprecationWarning: This process (pid=6085) is multi-threaded, use of fork() may lead to deadlocks in the child.\n",
      "  self.pid = os.fork()\n"
     ]
    },
    {
     "name": "stdout",
     "output_type": "stream",
     "text": [
      "Fraction = 0.7 | Rho = 0.1539 ; p = 0.0004\n"
     ]
    },
    {
     "name": "stderr",
     "output_type": "stream",
     "text": [
      "/home/caandersen/.conda/envs/riptide_3.3.6/lib/python3.13/multiprocessing/popen_fork.py:67: DeprecationWarning: This process (pid=6085) is multi-threaded, use of fork() may lead to deadlocks in the child.\n",
      "  self.pid = os.fork()\n"
     ]
    },
    {
     "name": "stdout",
     "output_type": "stream",
     "text": [
      "Fraction = 0.75 | Rho = 0.1345 ; p = 0.002\n"
     ]
    },
    {
     "name": "stderr",
     "output_type": "stream",
     "text": [
      "/home/caandersen/.conda/envs/riptide_3.3.6/lib/python3.13/multiprocessing/popen_fork.py:67: DeprecationWarning: This process (pid=6085) is multi-threaded, use of fork() may lead to deadlocks in the child.\n",
      "  self.pid = os.fork()\n"
     ]
    },
    {
     "name": "stdout",
     "output_type": "stream",
     "text": [
      "Fraction = 0.8 | Rho = 0.133 ; p = 0.0022\n"
     ]
    },
    {
     "name": "stderr",
     "output_type": "stream",
     "text": [
      "/home/caandersen/.conda/envs/riptide_3.3.6/lib/python3.13/multiprocessing/popen_fork.py:67: DeprecationWarning: This process (pid=6085) is multi-threaded, use of fork() may lead to deadlocks in the child.\n",
      "  self.pid = os.fork()\n"
     ]
    },
    {
     "name": "stdout",
     "output_type": "stream",
     "text": [
      "Fraction = 0.85 | Rho = 0.1231 ; p = 0.0048\n"
     ]
    },
    {
     "name": "stderr",
     "output_type": "stream",
     "text": [
      "/home/caandersen/.conda/envs/riptide_3.3.6/lib/python3.13/multiprocessing/popen_fork.py:67: DeprecationWarning: This process (pid=6085) is multi-threaded, use of fork() may lead to deadlocks in the child.\n",
      "  self.pid = os.fork()\n"
     ]
    },
    {
     "name": "stdout",
     "output_type": "stream",
     "text": [
      "Fraction = 0.9 | Rho = 0.1709 ; p = 0.0001\n",
      "Testing local objective fractions to 0.9...\n"
     ]
    },
    {
     "name": "stderr",
     "output_type": "stream",
     "text": [
      "/home/caandersen/.conda/envs/riptide_3.3.6/lib/python3.13/multiprocessing/popen_fork.py:67: DeprecationWarning: This process (pid=6085) is multi-threaded, use of fork() may lead to deadlocks in the child.\n",
      "  self.pid = os.fork()\n"
     ]
    },
    {
     "name": "stdout",
     "output_type": "stream",
     "text": [
      "Fraction = 0.875 | Rho = 0.1466 ; p = 0.0008\n"
     ]
    },
    {
     "name": "stderr",
     "output_type": "stream",
     "text": [
      "/home/caandersen/.conda/envs/riptide_3.3.6/lib/python3.13/multiprocessing/popen_fork.py:67: DeprecationWarning: This process (pid=6085) is multi-threaded, use of fork() may lead to deadlocks in the child.\n",
      "  self.pid = os.fork()\n"
     ]
    },
    {
     "name": "stdout",
     "output_type": "stream",
     "text": [
      "Fraction = 0.925 | Rho = 0.1441 ; p = 0.0009\n",
      "\n",
      "Context-specific metabolism fit with 0.9 of optimal objective flux\n",
      "\n",
      "Reactions pruned to 523 from 1424 (63.27% change)\n",
      "Metabolites pruned to 506 from 1263 (59.94% change)\n",
      "Flux through the objective DECREASED to ~33.01 from ~33.81 (2.37% change)\n",
      "Context-specific metabolism correlates with transcriptome (r=0.171, p<0.001 *)\n",
      "\n",
      "Maxfit RIPTiDe completed in, 8 minutes and 41 seconds \n",
      "\n"
     ]
    }
   ],
   "source": [
    "mf_ngo_0h_3x130 = riptide.maxfit_contextualize(model=model, transcriptome=ts_ngo_0h_3x130)"
   ]
  },
  {
   "cell_type": "code",
   "execution_count": 12,
   "id": "e9af1131-5e6f-4ec7-a37e-6940d40483ca",
   "metadata": {},
   "outputs": [
    {
     "name": "stdout",
     "output_type": "stream",
     "text": [
      "\n",
      "Running max fit RIPTiDe for objective fraction range: 0.35 to 0.95 with intervals of 0.05 \n",
      "\n",
      "Testing minimum objective fractions...\n"
     ]
    },
    {
     "name": "stderr",
     "output_type": "stream",
     "text": [
      "/home/caandersen/.conda/envs/riptide_3.3.6/lib/python3.13/multiprocessing/popen_fork.py:67: DeprecationWarning: This process (pid=6085) is multi-threaded, use of fork() may lead to deadlocks in the child.\n",
      "  self.pid = os.fork()\n"
     ]
    },
    {
     "name": "stdout",
     "output_type": "stream",
     "text": [
      "Fraction = 0.35 | Rho = 0.2173 ; p = 0.0\n"
     ]
    },
    {
     "name": "stderr",
     "output_type": "stream",
     "text": [
      "/home/caandersen/.conda/envs/riptide_3.3.6/lib/python3.13/multiprocessing/popen_fork.py:67: DeprecationWarning: This process (pid=6085) is multi-threaded, use of fork() may lead to deadlocks in the child.\n",
      "  self.pid = os.fork()\n"
     ]
    },
    {
     "name": "stdout",
     "output_type": "stream",
     "text": [
      "Fraction = 0.4 | Rho = 0.217 ; p = 0.0\n"
     ]
    },
    {
     "name": "stderr",
     "output_type": "stream",
     "text": [
      "/home/caandersen/.conda/envs/riptide_3.3.6/lib/python3.13/multiprocessing/popen_fork.py:67: DeprecationWarning: This process (pid=6085) is multi-threaded, use of fork() may lead to deadlocks in the child.\n",
      "  self.pid = os.fork()\n"
     ]
    },
    {
     "name": "stdout",
     "output_type": "stream",
     "text": [
      "Fraction = 0.45 | Rho = 0.2224 ; p = 0.0\n"
     ]
    },
    {
     "name": "stderr",
     "output_type": "stream",
     "text": [
      "/home/caandersen/.conda/envs/riptide_3.3.6/lib/python3.13/multiprocessing/popen_fork.py:67: DeprecationWarning: This process (pid=6085) is multi-threaded, use of fork() may lead to deadlocks in the child.\n",
      "  self.pid = os.fork()\n"
     ]
    },
    {
     "name": "stdout",
     "output_type": "stream",
     "text": [
      "Fraction = 0.5 | Rho = 0.1791 ; p = 0.0\n"
     ]
    },
    {
     "name": "stderr",
     "output_type": "stream",
     "text": [
      "/home/caandersen/.conda/envs/riptide_3.3.6/lib/python3.13/multiprocessing/popen_fork.py:67: DeprecationWarning: This process (pid=6085) is multi-threaded, use of fork() may lead to deadlocks in the child.\n",
      "  self.pid = os.fork()\n"
     ]
    },
    {
     "name": "stdout",
     "output_type": "stream",
     "text": [
      "Fraction = 0.55 | Rho = 0.1628 ; p = 0.0001\n"
     ]
    },
    {
     "name": "stderr",
     "output_type": "stream",
     "text": [
      "/home/caandersen/.conda/envs/riptide_3.3.6/lib/python3.13/multiprocessing/popen_fork.py:67: DeprecationWarning: This process (pid=6085) is multi-threaded, use of fork() may lead to deadlocks in the child.\n",
      "  self.pid = os.fork()\n"
     ]
    },
    {
     "name": "stdout",
     "output_type": "stream",
     "text": [
      "Fraction = 0.6 | Rho = 0.1627 ; p = 0.0001\n"
     ]
    },
    {
     "name": "stderr",
     "output_type": "stream",
     "text": [
      "/home/caandersen/.conda/envs/riptide_3.3.6/lib/python3.13/multiprocessing/popen_fork.py:67: DeprecationWarning: This process (pid=6085) is multi-threaded, use of fork() may lead to deadlocks in the child.\n",
      "  self.pid = os.fork()\n"
     ]
    },
    {
     "name": "stdout",
     "output_type": "stream",
     "text": [
      "Fraction = 0.65 | Rho = 0.1669 ; p = 0.0001\n"
     ]
    },
    {
     "name": "stderr",
     "output_type": "stream",
     "text": [
      "/home/caandersen/.conda/envs/riptide_3.3.6/lib/python3.13/multiprocessing/popen_fork.py:67: DeprecationWarning: This process (pid=6085) is multi-threaded, use of fork() may lead to deadlocks in the child.\n",
      "  self.pid = os.fork()\n"
     ]
    },
    {
     "name": "stdout",
     "output_type": "stream",
     "text": [
      "Fraction = 0.7 | Rho = 0.1746 ; p = 0.0\n"
     ]
    },
    {
     "name": "stderr",
     "output_type": "stream",
     "text": [
      "/home/caandersen/.conda/envs/riptide_3.3.6/lib/python3.13/multiprocessing/popen_fork.py:67: DeprecationWarning: This process (pid=6085) is multi-threaded, use of fork() may lead to deadlocks in the child.\n",
      "  self.pid = os.fork()\n"
     ]
    },
    {
     "name": "stdout",
     "output_type": "stream",
     "text": [
      "Fraction = 0.75 | Rho = 0.1682 ; p = 0.0001\n"
     ]
    },
    {
     "name": "stderr",
     "output_type": "stream",
     "text": [
      "/home/caandersen/.conda/envs/riptide_3.3.6/lib/python3.13/multiprocessing/popen_fork.py:67: DeprecationWarning: This process (pid=6085) is multi-threaded, use of fork() may lead to deadlocks in the child.\n",
      "  self.pid = os.fork()\n"
     ]
    },
    {
     "name": "stdout",
     "output_type": "stream",
     "text": [
      "Fraction = 0.8 | Rho = 0.1266 ; p = 0.0028\n"
     ]
    },
    {
     "name": "stderr",
     "output_type": "stream",
     "text": [
      "/home/caandersen/.conda/envs/riptide_3.3.6/lib/python3.13/multiprocessing/popen_fork.py:67: DeprecationWarning: This process (pid=6085) is multi-threaded, use of fork() may lead to deadlocks in the child.\n",
      "  self.pid = os.fork()\n"
     ]
    },
    {
     "name": "stdout",
     "output_type": "stream",
     "text": [
      "Fraction = 0.85 | Rho = 0.1225 ; p = 0.0038\n"
     ]
    },
    {
     "name": "stderr",
     "output_type": "stream",
     "text": [
      "/home/caandersen/.conda/envs/riptide_3.3.6/lib/python3.13/multiprocessing/popen_fork.py:67: DeprecationWarning: This process (pid=6085) is multi-threaded, use of fork() may lead to deadlocks in the child.\n",
      "  self.pid = os.fork()\n"
     ]
    },
    {
     "name": "stdout",
     "output_type": "stream",
     "text": [
      "Fraction = 0.9 | Rho = 0.1543 ; p = 0.0003\n",
      "Testing local objective fractions to 0.45...\n"
     ]
    },
    {
     "name": "stderr",
     "output_type": "stream",
     "text": [
      "/home/caandersen/.conda/envs/riptide_3.3.6/lib/python3.13/multiprocessing/popen_fork.py:67: DeprecationWarning: This process (pid=6085) is multi-threaded, use of fork() may lead to deadlocks in the child.\n",
      "  self.pid = os.fork()\n"
     ]
    },
    {
     "name": "stdout",
     "output_type": "stream",
     "text": [
      "Fraction = 0.425 | Rho = 0.2166 ; p = 0.0\n"
     ]
    },
    {
     "name": "stderr",
     "output_type": "stream",
     "text": [
      "/home/caandersen/.conda/envs/riptide_3.3.6/lib/python3.13/multiprocessing/popen_fork.py:67: DeprecationWarning: This process (pid=6085) is multi-threaded, use of fork() may lead to deadlocks in the child.\n",
      "  self.pid = os.fork()\n"
     ]
    },
    {
     "name": "stdout",
     "output_type": "stream",
     "text": [
      "Fraction = 0.475 | Rho = 0.1986 ; p = 0.0\n",
      "\n",
      "Context-specific metabolism fit with 0.45 of optimal objective flux\n",
      "\n",
      "Reactions pruned to 528 from 1424 (62.92% change)\n",
      "Metabolites pruned to 503 from 1263 (60.17% change)\n",
      "Flux through the objective DECREASED to ~13.58 from ~33.81 (59.83% change)\n",
      "Context-specific metabolism correlates with transcriptome (r=0.222, p<0.001 *)\n",
      "\n",
      "Maxfit RIPTiDe completed in, 11 minutes and 7 seconds \n",
      "\n"
     ]
    }
   ],
   "source": [
    "mf_ngo_1h_3x130 = riptide.maxfit_contextualize(model=model, transcriptome=ts_ngo_1h_3x130)"
   ]
  },
  {
   "cell_type": "code",
   "execution_count": 13,
   "id": "9a49b713-1b96-4e74-b796-4161c1f8ef56",
   "metadata": {},
   "outputs": [
    {
     "name": "stdout",
     "output_type": "stream",
     "text": [
      "\n",
      "Running max fit RIPTiDe for objective fraction range: 0.35 to 0.95 with intervals of 0.05 \n",
      "\n",
      "Testing minimum objective fractions...\n"
     ]
    },
    {
     "name": "stderr",
     "output_type": "stream",
     "text": [
      "/home/caandersen/.conda/envs/riptide_3.3.6/lib/python3.13/multiprocessing/popen_fork.py:67: DeprecationWarning: This process (pid=6085) is multi-threaded, use of fork() may lead to deadlocks in the child.\n",
      "  self.pid = os.fork()\n"
     ]
    },
    {
     "name": "stdout",
     "output_type": "stream",
     "text": [
      "Fraction = 0.35 | Rho = 0.228 ; p = 0.0\n"
     ]
    },
    {
     "name": "stderr",
     "output_type": "stream",
     "text": [
      "/home/caandersen/.conda/envs/riptide_3.3.6/lib/python3.13/multiprocessing/popen_fork.py:67: DeprecationWarning: This process (pid=6085) is multi-threaded, use of fork() may lead to deadlocks in the child.\n",
      "  self.pid = os.fork()\n"
     ]
    },
    {
     "name": "stdout",
     "output_type": "stream",
     "text": [
      "Fraction = 0.4 | Rho = 0.2281 ; p = 0.0\n"
     ]
    },
    {
     "name": "stderr",
     "output_type": "stream",
     "text": [
      "/home/caandersen/.conda/envs/riptide_3.3.6/lib/python3.13/multiprocessing/popen_fork.py:67: DeprecationWarning: This process (pid=6085) is multi-threaded, use of fork() may lead to deadlocks in the child.\n",
      "  self.pid = os.fork()\n"
     ]
    },
    {
     "name": "stdout",
     "output_type": "stream",
     "text": [
      "Fraction = 0.45 | Rho = 0.2276 ; p = 0.0\n"
     ]
    },
    {
     "name": "stderr",
     "output_type": "stream",
     "text": [
      "/home/caandersen/.conda/envs/riptide_3.3.6/lib/python3.13/multiprocessing/popen_fork.py:67: DeprecationWarning: This process (pid=6085) is multi-threaded, use of fork() may lead to deadlocks in the child.\n",
      "  self.pid = os.fork()\n"
     ]
    },
    {
     "name": "stdout",
     "output_type": "stream",
     "text": [
      "Fraction = 0.5 | Rho = 0.1792 ; p = 0.0\n"
     ]
    },
    {
     "name": "stderr",
     "output_type": "stream",
     "text": [
      "/home/caandersen/.conda/envs/riptide_3.3.6/lib/python3.13/multiprocessing/popen_fork.py:67: DeprecationWarning: This process (pid=6085) is multi-threaded, use of fork() may lead to deadlocks in the child.\n",
      "  self.pid = os.fork()\n"
     ]
    },
    {
     "name": "stdout",
     "output_type": "stream",
     "text": [
      "Fraction = 0.55 | Rho = 0.171 ; p = 0.0001\n"
     ]
    },
    {
     "name": "stderr",
     "output_type": "stream",
     "text": [
      "/home/caandersen/.conda/envs/riptide_3.3.6/lib/python3.13/multiprocessing/popen_fork.py:67: DeprecationWarning: This process (pid=6085) is multi-threaded, use of fork() may lead to deadlocks in the child.\n",
      "  self.pid = os.fork()\n"
     ]
    },
    {
     "name": "stdout",
     "output_type": "stream",
     "text": [
      "Fraction = 0.6 | Rho = 0.1723 ; p = 0.0001\n"
     ]
    },
    {
     "name": "stderr",
     "output_type": "stream",
     "text": [
      "/home/caandersen/.conda/envs/riptide_3.3.6/lib/python3.13/multiprocessing/popen_fork.py:67: DeprecationWarning: This process (pid=6085) is multi-threaded, use of fork() may lead to deadlocks in the child.\n",
      "  self.pid = os.fork()\n"
     ]
    },
    {
     "name": "stdout",
     "output_type": "stream",
     "text": [
      "Fraction = 0.65 | Rho = 0.1507 ; p = 0.0006\n"
     ]
    },
    {
     "name": "stderr",
     "output_type": "stream",
     "text": [
      "/home/caandersen/.conda/envs/riptide_3.3.6/lib/python3.13/multiprocessing/popen_fork.py:67: DeprecationWarning: This process (pid=6085) is multi-threaded, use of fork() may lead to deadlocks in the child.\n",
      "  self.pid = os.fork()\n"
     ]
    },
    {
     "name": "stdout",
     "output_type": "stream",
     "text": [
      "Fraction = 0.7 | Rho = 0.1673 ; p = 0.0001\n"
     ]
    },
    {
     "name": "stderr",
     "output_type": "stream",
     "text": [
      "/home/caandersen/.conda/envs/riptide_3.3.6/lib/python3.13/multiprocessing/popen_fork.py:67: DeprecationWarning: This process (pid=6085) is multi-threaded, use of fork() may lead to deadlocks in the child.\n",
      "  self.pid = os.fork()\n"
     ]
    },
    {
     "name": "stdout",
     "output_type": "stream",
     "text": [
      "Fraction = 0.75 | Rho = 0.1605 ; p = 0.0002\n"
     ]
    },
    {
     "name": "stderr",
     "output_type": "stream",
     "text": [
      "/home/caandersen/.conda/envs/riptide_3.3.6/lib/python3.13/multiprocessing/popen_fork.py:67: DeprecationWarning: This process (pid=6085) is multi-threaded, use of fork() may lead to deadlocks in the child.\n",
      "  self.pid = os.fork()\n"
     ]
    },
    {
     "name": "stdout",
     "output_type": "stream",
     "text": [
      "Fraction = 0.8 | Rho = 0.1782 ; p = 0.0\n"
     ]
    },
    {
     "name": "stderr",
     "output_type": "stream",
     "text": [
      "/home/caandersen/.conda/envs/riptide_3.3.6/lib/python3.13/multiprocessing/popen_fork.py:67: DeprecationWarning: This process (pid=6085) is multi-threaded, use of fork() may lead to deadlocks in the child.\n",
      "  self.pid = os.fork()\n"
     ]
    },
    {
     "name": "stdout",
     "output_type": "stream",
     "text": [
      "Fraction = 0.85 | Rho = 0.1779 ; p = 0.0\n"
     ]
    },
    {
     "name": "stderr",
     "output_type": "stream",
     "text": [
      "/home/caandersen/.conda/envs/riptide_3.3.6/lib/python3.13/multiprocessing/popen_fork.py:67: DeprecationWarning: This process (pid=6085) is multi-threaded, use of fork() may lead to deadlocks in the child.\n",
      "  self.pid = os.fork()\n"
     ]
    },
    {
     "name": "stdout",
     "output_type": "stream",
     "text": [
      "Fraction = 0.9 | Rho = 0.1866 ; p = 0.0\n",
      "Testing local objective fractions to 0.4...\n"
     ]
    },
    {
     "ename": "KeyboardInterrupt",
     "evalue": "",
     "output_type": "error",
     "traceback": [
      "\u001b[31m---------------------------------------------------------------------------\u001b[39m",
      "\u001b[31mKeyboardInterrupt\u001b[39m                         Traceback (most recent call last)",
      "\u001b[36mCell\u001b[39m\u001b[36m \u001b[39m\u001b[32mIn[13]\u001b[39m\u001b[32m, line 1\u001b[39m\n\u001b[32m----> \u001b[39m\u001b[32m1\u001b[39m mf_ngo_0h_h041 = \u001b[43mriptide\u001b[49m\u001b[43m.\u001b[49m\u001b[43mmaxfit_contextualize\u001b[49m\u001b[43m(\u001b[49m\u001b[43mmodel\u001b[49m\u001b[43m=\u001b[49m\u001b[43mmodel\u001b[49m\u001b[43m,\u001b[49m\u001b[43m \u001b[49m\u001b[43mtranscriptome\u001b[49m\u001b[43m=\u001b[49m\u001b[43mts_ngo_0h_h041\u001b[49m\u001b[43m)\u001b[49m\n",
      "\u001b[36mFile \u001b[39m\u001b[32m~/.conda/envs/riptide_3.3.6/lib/python3.13/site-packages/riptide/riptide.py:438\u001b[39m, in \u001b[36mmaxfit_contextualize\u001b[39m\u001b[34m(model, transcriptome, frac_min, frac_max, frac_step, first_max, samples, exch_weight, minimum, conservative, objective, additive, important, set_bounds, silent, tasks, exclude, gpr, threshold, open_exchanges)\u001b[39m\n\u001b[32m    435\u001b[39m frac = \u001b[38;5;28mround\u001b[39m(top_fit.fraction_of_optimum, \u001b[32m3\u001b[39m)\n\u001b[32m    437\u001b[39m lower_frac = \u001b[38;5;28mround\u001b[39m(frac - new_step, \u001b[32m3\u001b[39m)\n\u001b[32m--> \u001b[39m\u001b[32m438\u001b[39m iter_riptide = \u001b[43mcontextualize\u001b[49m\u001b[43m(\u001b[49m\u001b[43mmodel\u001b[49m\u001b[43m,\u001b[49m\u001b[43m \u001b[49m\u001b[43mtranscriptome\u001b[49m\u001b[43m,\u001b[49m\u001b[43m \u001b[49m\u001b[43mfraction\u001b[49m\u001b[43m=\u001b[49m\u001b[43mlower_frac\u001b[49m\u001b[43m,\u001b[49m\u001b[43m \u001b[49m\u001b[43msilent\u001b[49m\u001b[43m=\u001b[49m\u001b[38;5;28;43;01mTrue\u001b[39;49;00m\u001b[43m,\u001b[49m\u001b[43m \u001b[49m\u001b[43msamples\u001b[49m\u001b[43m=\u001b[49m\u001b[43msamples\u001b[49m\u001b[43m,\u001b[49m\u001b[43m \u001b[49m\u001b[43mexch_weight\u001b[49m\u001b[43m=\u001b[49m\u001b[43mexch_weight\u001b[49m\u001b[43m,\u001b[49m\u001b[43m \u001b[49m\n\u001b[32m    439\u001b[39m \u001b[43m                \u001b[49m\u001b[43mminimum\u001b[49m\u001b[43m=\u001b[49m\u001b[43mminimum\u001b[49m\u001b[43m,\u001b[49m\u001b[43m \u001b[49m\u001b[43mconservative\u001b[49m\u001b[43m=\u001b[49m\u001b[43mconservative\u001b[49m\u001b[43m,\u001b[49m\u001b[43m \u001b[49m\n\u001b[32m    440\u001b[39m \u001b[43m                \u001b[49m\u001b[43mobjective\u001b[49m\u001b[43m=\u001b[49m\u001b[43mobjective\u001b[49m\u001b[43m,\u001b[49m\u001b[43m \u001b[49m\u001b[43madditive\u001b[49m\u001b[43m=\u001b[49m\u001b[43madditive\u001b[49m\u001b[43m,\u001b[49m\u001b[43m \u001b[49m\u001b[43mimportant\u001b[49m\u001b[43m=\u001b[49m\u001b[43mimportant\u001b[49m\u001b[43m,\u001b[49m\u001b[43m \u001b[49m\u001b[43mset_bounds\u001b[49m\u001b[43m=\u001b[49m\u001b[43mset_bounds\u001b[49m\u001b[43m,\u001b[49m\u001b[43m \u001b[49m\u001b[43mtasks\u001b[49m\u001b[43m=\u001b[49m\u001b[43mtasks\u001b[49m\u001b[43m,\u001b[49m\u001b[43m \u001b[49m\u001b[43mexclude\u001b[49m\u001b[43m=\u001b[49m\u001b[43mexclude\u001b[49m\u001b[43m,\u001b[49m\n\u001b[32m    441\u001b[39m \u001b[43m                \u001b[49m\u001b[43mgpr\u001b[49m\u001b[43m=\u001b[49m\u001b[43mgpr\u001b[49m\u001b[43m,\u001b[49m\u001b[43m \u001b[49m\u001b[43mthreshold\u001b[49m\u001b[43m=\u001b[49m\u001b[43mthreshold\u001b[49m\u001b[43m,\u001b[49m\u001b[43m \u001b[49m\u001b[43mopen_exchanges\u001b[49m\u001b[43m=\u001b[49m\u001b[43mopen_exchanges\u001b[49m\u001b[43m)\u001b[49m\n\u001b[32m    442\u001b[39m curr_rho = iter_riptide.concordance[\u001b[33m'\u001b[39m\u001b[33mr\u001b[39m\u001b[33m'\u001b[39m]\n\u001b[32m    443\u001b[39m curr_p = iter_riptide.concordance[\u001b[33m'\u001b[39m\u001b[33mp\u001b[39m\u001b[33m'\u001b[39m]\n",
      "\u001b[36mFile \u001b[39m\u001b[32m~/.conda/envs/riptide_3.3.6/lib/python3.13/site-packages/riptide/riptide.py:651\u001b[39m, in \u001b[36mcontextualize\u001b[39m\u001b[34m(model, transcriptome, samples, silent, exch_weight, fraction, minimum, conservative, objective, additive, important, direct, set_bounds, tasks, exclude, gpr, threshold, open_exchanges, skip_fva)\u001b[39m\n\u001b[32m    649\u001b[39m \u001b[38;5;66;03m# Determine inactive reactions and prune model\u001b[39;00m\n\u001b[32m    650\u001b[39m rm_rxns = \u001b[38;5;28mset\u001b[39m([x.id \u001b[38;5;28;01mfor\u001b[39;00m x \u001b[38;5;129;01min\u001b[39;00m riptide_model.reactions]).difference(keep_rxns)\n\u001b[32m--> \u001b[39m\u001b[32m651\u001b[39m riptide_model = \u001b[43m_prune_model\u001b[49m\u001b[43m(\u001b[49m\u001b[43mriptide_model\u001b[49m\u001b[43m,\u001b[49m\u001b[43m \u001b[49m\u001b[43mrm_rxns\u001b[49m\u001b[43m,\u001b[49m\u001b[43m \u001b[49m\u001b[43mconservative\u001b[49m\u001b[43m)\u001b[49m\n\u001b[32m    652\u001b[39m riptide_object.pruned = _record_pruned_elements(model, riptide_model)\n\u001b[32m    653\u001b[39m riptide_object.minimization_coefficients = all_min_coefficient_dict\n",
      "\u001b[36mFile \u001b[39m\u001b[32m~/.conda/envs/riptide_3.3.6/lib/python3.13/site-packages/riptide/riptide.py:997\u001b[39m, in \u001b[36m_prune_model\u001b[39m\u001b[34m(new_model, rm_rxns, conserve)\u001b[39m\n\u001b[32m    995\u001b[39m \u001b[38;5;66;03m# Prune inactive reactions\u001b[39;00m\n\u001b[32m    996\u001b[39m warnings.filterwarnings(\u001b[33m'\u001b[39m\u001b[33mignore\u001b[39m\u001b[33m'\u001b[39m) \u001b[38;5;66;03m# Handle UserWarning\u001b[39;00m\n\u001b[32m--> \u001b[39m\u001b[32m997\u001b[39m \u001b[38;5;28;01mfor\u001b[39;00m rxn \u001b[38;5;129;01min\u001b[39;00m final_rm_rxns: \u001b[43mnew_model\u001b[49m\u001b[43m.\u001b[49m\u001b[43mreactions\u001b[49m\u001b[43m.\u001b[49m\u001b[43mget_by_id\u001b[49m\u001b[43m(\u001b[49m\u001b[43mrxn\u001b[49m\u001b[43m)\u001b[49m\u001b[43m.\u001b[49m\u001b[43mremove_from_model\u001b[49m\u001b[43m(\u001b[49m\u001b[43mremove_orphans\u001b[49m\u001b[43m=\u001b[49m\u001b[38;5;28;43;01mTrue\u001b[39;49;00m\u001b[43m)\u001b[49m\n\u001b[32m    998\u001b[39m warnings.filterwarnings(\u001b[33m'\u001b[39m\u001b[33mdefault\u001b[39m\u001b[33m'\u001b[39m)\n\u001b[32m   1000\u001b[39m \u001b[38;5;66;03m# Prune orphaned nodes\u001b[39;00m\n",
      "\u001b[36mFile \u001b[39m\u001b[32m~/.conda/envs/riptide_3.3.6/lib/python3.13/site-packages/cobra/core/reaction.py:860\u001b[39m, in \u001b[36mReaction.remove_from_model\u001b[39m\u001b[34m(self, remove_orphans)\u001b[39m\n\u001b[32m    846\u001b[39m \u001b[38;5;28;01mdef\u001b[39;00m\u001b[38;5;250m \u001b[39m\u001b[34mremove_from_model\u001b[39m(\u001b[38;5;28mself\u001b[39m, remove_orphans: \u001b[38;5;28mbool\u001b[39m = \u001b[38;5;28;01mFalse\u001b[39;00m) -> \u001b[38;5;28;01mNone\u001b[39;00m:\n\u001b[32m    847\u001b[39m \u001b[38;5;250m    \u001b[39m\u001b[33;03m\"\"\"Remove the reaction from a model.\u001b[39;00m\n\u001b[32m    848\u001b[39m \n\u001b[32m    849\u001b[39m \u001b[33;03m    This removes all associations between a reaction the associated\u001b[39;00m\n\u001b[32m   (...)\u001b[39m\u001b[32m    858\u001b[39m \u001b[33;03m        False).\u001b[39;00m\n\u001b[32m    859\u001b[39m \u001b[33;03m    \"\"\"\u001b[39;00m\n\u001b[32m--> \u001b[39m\u001b[32m860\u001b[39m     \u001b[38;5;28;43mself\u001b[39;49m\u001b[43m.\u001b[49m\u001b[43m_model\u001b[49m\u001b[43m.\u001b[49m\u001b[43mremove_reactions\u001b[49m\u001b[43m(\u001b[49m\u001b[43m[\u001b[49m\u001b[38;5;28;43mself\u001b[39;49m\u001b[43m]\u001b[49m\u001b[43m,\u001b[49m\u001b[43m \u001b[49m\u001b[43mremove_orphans\u001b[49m\u001b[43m=\u001b[49m\u001b[43mremove_orphans\u001b[49m\u001b[43m)\u001b[49m\n",
      "\u001b[36mFile \u001b[39m\u001b[32m~/.conda/envs/riptide_3.3.6/lib/python3.13/site-packages/cobra/core/model.py:811\u001b[39m, in \u001b[36mModel.remove_reactions\u001b[39m\u001b[34m(self, reactions, remove_orphans)\u001b[39m\n\u001b[32m    808\u001b[39m     context(partial(\u001b[38;5;28mself\u001b[39m.reactions.add, reaction))\n\u001b[32m    810\u001b[39m \u001b[38;5;28mself\u001b[39m.remove_cons_vars([forward, reverse])\n\u001b[32m--> \u001b[39m\u001b[32m811\u001b[39m \u001b[38;5;28;43mself\u001b[39;49m\u001b[43m.\u001b[49m\u001b[43mreactions\u001b[49m\u001b[43m.\u001b[49m\u001b[43mremove\u001b[49m\u001b[43m(\u001b[49m\u001b[43mreaction\u001b[49m\u001b[43m)\u001b[49m\n\u001b[32m    812\u001b[39m reaction._model = \u001b[38;5;28;01mNone\u001b[39;00m\n\u001b[32m    814\u001b[39m \u001b[38;5;28;01mfor\u001b[39;00m met \u001b[38;5;129;01min\u001b[39;00m reaction._metabolites:\n",
      "\u001b[36mFile \u001b[39m\u001b[32m~/.conda/envs/riptide_3.3.6/lib/python3.13/site-packages/cobra/core/dictlist.py:416\u001b[39m, in \u001b[36mDictList.remove\u001b[39m\u001b[34m(self, x)\u001b[39m\n\u001b[32m    413\u001b[39m \u001b[38;5;250m    \u001b[39m\u001b[33;03m\"\"\"Opposite of `remove`. Mirrors set.add.\"\"\"\u001b[39;00m\n\u001b[32m    414\u001b[39m     \u001b[38;5;28mself\u001b[39m.extend([x])\n\u001b[32m--> \u001b[39m\u001b[32m416\u001b[39m \u001b[38;5;28;01mdef\u001b[39;00m\u001b[38;5;250m \u001b[39m\u001b[34mremove\u001b[39m(\u001b[38;5;28mself\u001b[39m, x: Union[\u001b[38;5;28mstr\u001b[39m, Object]) -> \u001b[38;5;28;01mNone\u001b[39;00m:\n\u001b[32m    417\u001b[39m \u001b[38;5;250m    \u001b[39m\u001b[33;03m\"\"\".. warning :: Internal use only.\u001b[39;00m\n\u001b[32m    418\u001b[39m \n\u001b[32m    419\u001b[39m \u001b[33;03m    Each item is unique in the list which allows this\u001b[39;00m\n\u001b[32m    420\u001b[39m \u001b[33;03m    It is much faster to do a dict lookup than n string comparisons\u001b[39;00m\n\u001b[32m    421\u001b[39m \u001b[33;03m    \"\"\"\u001b[39;00m\n\u001b[32m    422\u001b[39m     \u001b[38;5;28mself\u001b[39m.pop(\u001b[38;5;28mself\u001b[39m.index(x))\n",
      "\u001b[31mKeyboardInterrupt\u001b[39m: "
     ]
    }
   ],
   "source": [
    "mf_ngo_0h_h041 = riptide.maxfit_contextualize(model=model, transcriptome=ts_ngo_0h_h041)"
   ]
  },
  {
   "cell_type": "code",
   "execution_count": null,
   "id": "949a42be-24d0-49c2-83b9-d51324996b25",
   "metadata": {},
   "outputs": [],
   "source": [
    "mf_ngo_1h_h041 = riptide.maxfit_contextualize(model=model, transcriptome=ts_ngo_1h_h041)"
   ]
  },
  {
   "cell_type": "code",
   "execution_count": null,
   "id": "1491ec61-4206-45e4-8f5e-2bfc8578b583",
   "metadata": {},
   "outputs": [],
   "source": [
    "def save_riptide_run(result, tag, base_dir=\"outputdata/mfit_outputs\", original_model=None):\n",
    "    \"\"\"\n",
    "    Save core outputs from a RIPTiDe run into: <CWD>/<base_dir>/<tag>/\n",
    "\n",
    "    Writes:\n",
    "      - <tag>_model.json           (pruned COBRA model)\n",
    "      - <tag>_flux_samples.tsv     (flux samples table)\n",
    "      - <tag>_kept_reactions.txt   (optional; if original_model provided)\n",
    "      - <tag>_pruned_reactions.txt (optional; if original_model provided)\n",
    "      - <tag>_biomass_stats.csv    (quick summary of biomass column if present)\n",
    "\n",
    "    Returns: dict of written file paths.\n",
    "    \"\"\"\n",
    "    outdir = os.path.join(base_dir, tag)\n",
    "    os.makedirs(outdir, exist_ok=True)\n",
    "\n",
    "    paths = {}\n",
    "\n",
    "    # 1) pruned model\n",
    "    paths[\"model_json\"] = os.path.join(outdir, f\"{tag}_model.json\")\n",
    "    cobra.io.save_json_model(result.model, paths[\"model_json\"])\n",
    "\n",
    "    # 2) flux samples\n",
    "    paths[\"flux_samples\"] = os.path.join(outdir, f\"{tag}_flux_samples.tsv\")\n",
    "    result.flux_samples.to_csv(paths[\"flux_samples\"], sep=\"\\t\", index=False)\n",
    "\n",
    "    # 3) optional kept/pruned reaction lists\n",
    "    if original_model is not None:\n",
    "        all_rxns = set(original_model.reactions.list_attr(\"id\"))\n",
    "        kept_rxns = set(result.model.reactions.list_attr(\"id\"))\n",
    "        pruned_rxns = sorted(all_rxns - kept_rxns)\n",
    "        kept_rxns = sorted(kept_rxns)\n",
    "\n",
    "        paths[\"kept_reactions\"] = os.path.join(outdir, f\"{tag}_kept_reactions.txt\")\n",
    "        paths[\"pruned_reactions\"] = os.path.join(outdir, f\"{tag}_pruned_reactions.txt\")\n",
    "        pd.Series(kept_rxns).to_csv(paths[\"kept_reactions\"], index=False, header=False)\n",
    "        pd.Series(pruned_rxns).to_csv(paths[\"pruned_reactions\"], index=False, header=False)\n",
    "\n",
    "    # 4) quick biomass stats (if present)\n",
    "    if \"biomass\" in result.flux_samples.columns:\n",
    "        paths[\"biomass_stats\"] = os.path.join(outdir, f\"{tag}_biomass_stats.csv\")\n",
    "        result.flux_samples[\"biomass\"].describe().to_csv(paths[\"biomass_stats\"])\n",
    "\n",
    "    print(f\"Saved outputs to {outdir}\")\n",
    "    return paths"
   ]
  },
  {
   "cell_type": "code",
   "execution_count": null,
   "id": "45a03d4b-76d2-4587-81a6-bca515738238",
   "metadata": {},
   "outputs": [],
   "source": [
    "tag = \"ngo_0h_130_rpmi\"\n",
    "paths = save_riptide_run(\n",
    "    result=mf_ngo_0h_130,\n",
    "    tag=tag,\n",
    "    base_dir=\"outputdata/mfit_outputs\",  # relative to cwd\n",
    "    original_model=model\n",
    ")"
   ]
  },
  {
   "cell_type": "code",
   "execution_count": null,
   "id": "f2ab75df-0be9-4dba-8b67-b2edcac59c3a",
   "metadata": {},
   "outputs": [],
   "source": [
    "tag = \"ngo_1h_130_rpmi\"\n",
    "paths = save_riptide_run(\n",
    "    result=mf_ngo_1h_130,\n",
    "    tag=tag,\n",
    "    base_dir=\"outputdata/mfit_outputs\",  # relative to cwd\n",
    "    original_model=model\n",
    ")"
   ]
  },
  {
   "cell_type": "code",
   "execution_count": null,
   "id": "cbaa87a7-f5e8-49c0-aa7e-0ac15e81ff3f",
   "metadata": {},
   "outputs": [],
   "source": [
    "tag = \"ngo_0h_3x130_rpmi\"\n",
    "paths = save_riptide_run(\n",
    "    result=mf_ngo_0h_3x130,\n",
    "    tag=tag,\n",
    "    base_dir=\"outputdata/mfit_outputs\",  # relative to cwd\n",
    "    original_model=model\n",
    ")"
   ]
  },
  {
   "cell_type": "code",
   "execution_count": null,
   "id": "b50a77bb-5219-4c83-81bc-0a5a7e4afe8f",
   "metadata": {},
   "outputs": [],
   "source": [
    "tag = \"ngo_1h_3x130_rpmi\"\n",
    "paths = save_riptide_run(\n",
    "    result=mf_ngo_1h_3x130,\n",
    "    tag=tag,\n",
    "    base_dir=\"outputdata/mfit_outputs\",  # relative to cwd\n",
    "    original_model=model\n",
    ")"
   ]
  },
  {
   "cell_type": "code",
   "execution_count": null,
   "id": "d42a028d-4fdd-4965-a70b-dfca963d1d8d",
   "metadata": {},
   "outputs": [],
   "source": [
    "tag = \"ngo_0h_h041_rpmi\"\n",
    "paths = save_riptide_run(\n",
    "    result=mf_ngo_0h_h041,\n",
    "    tag=tag,\n",
    "    base_dir=\"outputdata/mfit_outputs\",  # relative to cwd\n",
    "    original_model=model\n",
    ")"
   ]
  },
  {
   "cell_type": "code",
   "execution_count": null,
   "id": "7865595b-7029-46a5-bab8-2edd63cdb15f",
   "metadata": {},
   "outputs": [],
   "source": [
    "tag = \"ngo_1h_h041_rpmi\"\n",
    "paths = save_riptide_run(\n",
    "    result=mf_ngo_1h_h041,\n",
    "    tag=tag,\n",
    "    base_dir=\"outputdata/mfit_outputs\",  # relative to cwd\n",
    "    original_model=model\n",
    ")"
   ]
  },
  {
   "cell_type": "code",
   "execution_count": null,
   "id": "7c9af5dd-aec1-4878-98b3-cd35f385600b",
   "metadata": {},
   "outputs": [],
   "source": []
  }
 ],
 "metadata": {
  "kernelspec": {
   "display_name": "Riptide 3.3.6",
   "language": "python",
   "name": "riptide_3.3.6"
  },
  "language_info": {
   "codemirror_mode": {
    "name": "ipython",
    "version": 3
   },
   "file_extension": ".py",
   "mimetype": "text/x-python",
   "name": "python",
   "nbconvert_exporter": "python",
   "pygments_lexer": "ipython3",
   "version": "3.13.5"
  }
 },
 "nbformat": 4,
 "nbformat_minor": 5
}
