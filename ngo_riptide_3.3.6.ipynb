{
 "cells": [
  {
   "cell_type": "code",
   "execution_count": 1,
   "id": "99ef912d-d73d-425c-b71b-83c9d6d3d54d",
   "metadata": {},
   "outputs": [],
   "source": [
    "import cobra.io\n",
    "import cobra\n",
    "from cobra import Model, Reaction, Metabolite\n",
    "import cobra.util.array\n",
    "import numpy\n",
    "import pandas as pd\n",
    "import csv\n",
    "import riptide\n",
    "import os"
   ]
  },
  {
   "cell_type": "code",
   "execution_count": 2,
   "id": "15a7ff85-6385-48d9-af18-c5531720e980",
   "metadata": {},
   "outputs": [
    {
     "name": "stdout",
     "output_type": "stream",
     "text": [
      "CWD: /home/caandersen/2025_august/weekof_0825/gc_withpmn_riptide_exp\n"
     ]
    }
   ],
   "source": [
    "print(\"CWD:\", os.getcwd()) #double-checking cwd"
   ]
  },
  {
   "cell_type": "code",
   "execution_count": 3,
   "id": "a68f3201-59d0-4dbe-8d3b-57884688946c",
   "metadata": {},
   "outputs": [],
   "source": [
    "ngo557 = cobra.io.load_json_model('inputdata/models/NGO_557.json')"
   ]
  },
  {
   "cell_type": "code",
   "execution_count": 4,
   "id": "71f78057-4564-49f7-9916-f92bf5374932",
   "metadata": {},
   "outputs": [],
   "source": [
    "# These are all transcripts that contain replicates, i.e. additional columns.\n",
    "\n",
    "# ts = transcript\n",
    "# mf = maxfit object"
   ]
  },
  {
   "cell_type": "code",
   "execution_count": 5,
   "id": "2e9a7da7-165e-4223-bf02-c3af1b23442e",
   "metadata": {},
   "outputs": [],
   "source": [
    "ts_ngo_0h_130 = riptide.read_transcription_file(\"inputdata/input_transcript/ngoids_0h_130.txt\", header=True)\n",
    "ts_ngo_1h_130 = riptide.read_transcription_file(\"inputdata/input_transcript/ngoids_1h_130.txt\", header=True)\n",
    "ts_ngo_0h_3x130 = riptide.read_transcription_file(\"inputdata/input_transcript/ngoids_0h_3x130.txt\", header=True)\n",
    "ts_ngo_1h_3x130 = riptide.read_transcription_file(\"inputdata/input_transcript/ngoids_1h_3x130.txt\", header=True)\n",
    "ts_ngo_0h_h041 = riptide.read_transcription_file(\"inputdata/input_transcript/ngoids_0h_h041.txt\", header=True)\n",
    "ts_ngo_1h_h041 = riptide.read_transcription_file(\"inputdata/input_transcript/ngoids_1h_h041.txt\", header=True)"
   ]
  },
  {
   "cell_type": "code",
   "execution_count": 6,
   "id": "919d5e5b-c526-42ae-ac15-29d1f9a08ff6",
   "metadata": {},
   "outputs": [],
   "source": [
    "ngo557.objective = ngo557.reactions.get_by_id('biomass')"
   ]
  },
  {
   "cell_type": "code",
   "execution_count": 7,
   "id": "06a2d614-c232-42c6-b8b3-3b9f1eca9643",
   "metadata": {},
   "outputs": [
    {
     "name": "stdout",
     "output_type": "stream",
     "text": [
      "\n",
      "Running max fit RIPTiDe for objective fraction range: 0.35 to 0.95 with intervals of 0.05 \n",
      "\n",
      "Testing minimum objective fractions...\n"
     ]
    },
    {
     "name": "stderr",
     "output_type": "stream",
     "text": [
      "/home/caandersen/.conda/envs/riptide_3.3.6/lib/python3.13/multiprocessing/popen_fork.py:67: DeprecationWarning: This process (pid=8791) is multi-threaded, use of fork() may lead to deadlocks in the child.\n",
      "  self.pid = os.fork()\n"
     ]
    },
    {
     "name": "stdout",
     "output_type": "stream",
     "text": [
      "Fraction = 0.35 | Rho = 0.1559 ; p = 0.0004\n"
     ]
    },
    {
     "name": "stderr",
     "output_type": "stream",
     "text": [
      "/home/caandersen/.conda/envs/riptide_3.3.6/lib/python3.13/multiprocessing/popen_fork.py:67: DeprecationWarning: This process (pid=8791) is multi-threaded, use of fork() may lead to deadlocks in the child.\n",
      "  self.pid = os.fork()\n"
     ]
    },
    {
     "name": "stdout",
     "output_type": "stream",
     "text": [
      "Fraction = 0.4 | Rho = 0.1646 ; p = 0.0002\n"
     ]
    },
    {
     "name": "stderr",
     "output_type": "stream",
     "text": [
      "/home/caandersen/.conda/envs/riptide_3.3.6/lib/python3.13/multiprocessing/popen_fork.py:67: DeprecationWarning: This process (pid=8791) is multi-threaded, use of fork() may lead to deadlocks in the child.\n",
      "  self.pid = os.fork()\n"
     ]
    },
    {
     "name": "stdout",
     "output_type": "stream",
     "text": [
      "Fraction = 0.45 | Rho = 0.1571 ; p = 0.0004\n"
     ]
    },
    {
     "name": "stderr",
     "output_type": "stream",
     "text": [
      "/home/caandersen/.conda/envs/riptide_3.3.6/lib/python3.13/multiprocessing/popen_fork.py:67: DeprecationWarning: This process (pid=8791) is multi-threaded, use of fork() may lead to deadlocks in the child.\n",
      "  self.pid = os.fork()\n"
     ]
    },
    {
     "name": "stdout",
     "output_type": "stream",
     "text": [
      "Fraction = 0.5 | Rho = 0.1658 ; p = 0.0002\n"
     ]
    },
    {
     "name": "stderr",
     "output_type": "stream",
     "text": [
      "/home/caandersen/.conda/envs/riptide_3.3.6/lib/python3.13/multiprocessing/popen_fork.py:67: DeprecationWarning: This process (pid=8791) is multi-threaded, use of fork() may lead to deadlocks in the child.\n",
      "  self.pid = os.fork()\n"
     ]
    },
    {
     "name": "stdout",
     "output_type": "stream",
     "text": [
      "Fraction = 0.55 | Rho = 0.1897 ; p = 0.0\n"
     ]
    },
    {
     "name": "stderr",
     "output_type": "stream",
     "text": [
      "/home/caandersen/.conda/envs/riptide_3.3.6/lib/python3.13/multiprocessing/popen_fork.py:67: DeprecationWarning: This process (pid=8791) is multi-threaded, use of fork() may lead to deadlocks in the child.\n",
      "  self.pid = os.fork()\n"
     ]
    },
    {
     "name": "stdout",
     "output_type": "stream",
     "text": [
      "Fraction = 0.6 | Rho = 0.2067 ; p = 0.0\n"
     ]
    },
    {
     "name": "stderr",
     "output_type": "stream",
     "text": [
      "/home/caandersen/.conda/envs/riptide_3.3.6/lib/python3.13/multiprocessing/popen_fork.py:67: DeprecationWarning: This process (pid=8791) is multi-threaded, use of fork() may lead to deadlocks in the child.\n",
      "  self.pid = os.fork()\n"
     ]
    },
    {
     "name": "stdout",
     "output_type": "stream",
     "text": [
      "Fraction = 0.65 | Rho = 0.189 ; p = 0.0\n"
     ]
    },
    {
     "name": "stderr",
     "output_type": "stream",
     "text": [
      "/home/caandersen/.conda/envs/riptide_3.3.6/lib/python3.13/multiprocessing/popen_fork.py:67: DeprecationWarning: This process (pid=8791) is multi-threaded, use of fork() may lead to deadlocks in the child.\n",
      "  self.pid = os.fork()\n"
     ]
    },
    {
     "name": "stdout",
     "output_type": "stream",
     "text": [
      "Fraction = 0.7 | Rho = 0.1848 ; p = 0.0\n"
     ]
    },
    {
     "name": "stderr",
     "output_type": "stream",
     "text": [
      "/home/caandersen/.conda/envs/riptide_3.3.6/lib/python3.13/multiprocessing/popen_fork.py:67: DeprecationWarning: This process (pid=8791) is multi-threaded, use of fork() may lead to deadlocks in the child.\n",
      "  self.pid = os.fork()\n"
     ]
    },
    {
     "name": "stdout",
     "output_type": "stream",
     "text": [
      "Fraction = 0.75 | Rho = 0.184 ; p = 0.0\n"
     ]
    },
    {
     "name": "stderr",
     "output_type": "stream",
     "text": [
      "/home/caandersen/.conda/envs/riptide_3.3.6/lib/python3.13/multiprocessing/popen_fork.py:67: DeprecationWarning: This process (pid=8791) is multi-threaded, use of fork() may lead to deadlocks in the child.\n",
      "  self.pid = os.fork()\n"
     ]
    },
    {
     "name": "stdout",
     "output_type": "stream",
     "text": [
      "Fraction = 0.8 | Rho = 0.1749 ; p = 0.0001\n"
     ]
    },
    {
     "name": "stderr",
     "output_type": "stream",
     "text": [
      "/home/caandersen/.conda/envs/riptide_3.3.6/lib/python3.13/multiprocessing/popen_fork.py:67: DeprecationWarning: This process (pid=8791) is multi-threaded, use of fork() may lead to deadlocks in the child.\n",
      "  self.pid = os.fork()\n"
     ]
    },
    {
     "name": "stdout",
     "output_type": "stream",
     "text": [
      "Fraction = 0.85 | Rho = 0.193 ; p = 0.0\n"
     ]
    },
    {
     "name": "stderr",
     "output_type": "stream",
     "text": [
      "/home/caandersen/.conda/envs/riptide_3.3.6/lib/python3.13/multiprocessing/popen_fork.py:67: DeprecationWarning: This process (pid=8791) is multi-threaded, use of fork() may lead to deadlocks in the child.\n",
      "  self.pid = os.fork()\n"
     ]
    },
    {
     "name": "stdout",
     "output_type": "stream",
     "text": [
      "Fraction = 0.9 | Rho = 0.2079 ; p = 0.0\n",
      "Testing local objective fractions to 0.9...\n"
     ]
    },
    {
     "name": "stderr",
     "output_type": "stream",
     "text": [
      "/home/caandersen/.conda/envs/riptide_3.3.6/lib/python3.13/multiprocessing/popen_fork.py:67: DeprecationWarning: This process (pid=8791) is multi-threaded, use of fork() may lead to deadlocks in the child.\n",
      "  self.pid = os.fork()\n"
     ]
    },
    {
     "name": "stdout",
     "output_type": "stream",
     "text": [
      "Fraction = 0.875 | Rho = 0.1822 ; p = 0.0\n"
     ]
    },
    {
     "name": "stderr",
     "output_type": "stream",
     "text": [
      "/home/caandersen/.conda/envs/riptide_3.3.6/lib/python3.13/multiprocessing/popen_fork.py:67: DeprecationWarning: This process (pid=8791) is multi-threaded, use of fork() may lead to deadlocks in the child.\n",
      "  self.pid = os.fork()\n"
     ]
    },
    {
     "name": "stdout",
     "output_type": "stream",
     "text": [
      "Fraction = 0.925 | Rho = 0.2069 ; p = 0.0\n",
      "\n",
      "Context-specific metabolism fit with 0.9 of optimal objective flux\n",
      "\n",
      "Reactions pruned to 511 from 1424 (64.12% change)\n",
      "Metabolites pruned to 503 from 1263 (60.17% change)\n",
      "Flux through the objective DECREASED to ~33.53 from ~33.81 (0.83% change)\n",
      "Context-specific metabolism correlates with transcriptome (r=0.208, p<0.001 *)\n",
      "\n",
      "Maxfit RIPTiDe completed in, 4 minutes and 54 seconds \n",
      "\n"
     ]
    }
   ],
   "source": [
    "mf_ngo_0h_130 = riptide.maxfit_contextualize(model=ngo557, transcriptome=ts_ngo_0h_130, open_exchanges=True)"
   ]
  },
  {
   "cell_type": "code",
   "execution_count": 8,
   "id": "a01bf20b-7b86-4092-84f9-02e9e194d0da",
   "metadata": {},
   "outputs": [
    {
     "name": "stdout",
     "output_type": "stream",
     "text": [
      "\n",
      "Running max fit RIPTiDe for objective fraction range: 0.35 to 0.95 with intervals of 0.05 \n",
      "\n",
      "Testing minimum objective fractions...\n"
     ]
    },
    {
     "name": "stderr",
     "output_type": "stream",
     "text": [
      "/home/caandersen/.conda/envs/riptide_3.3.6/lib/python3.13/multiprocessing/popen_fork.py:67: DeprecationWarning: This process (pid=8791) is multi-threaded, use of fork() may lead to deadlocks in the child.\n",
      "  self.pid = os.fork()\n"
     ]
    },
    {
     "name": "stdout",
     "output_type": "stream",
     "text": [
      "Fraction = 0.35 | Rho = 0.1269 ; p = 0.0035\n"
     ]
    },
    {
     "name": "stderr",
     "output_type": "stream",
     "text": [
      "/home/caandersen/.conda/envs/riptide_3.3.6/lib/python3.13/multiprocessing/popen_fork.py:67: DeprecationWarning: This process (pid=8791) is multi-threaded, use of fork() may lead to deadlocks in the child.\n",
      "  self.pid = os.fork()\n"
     ]
    },
    {
     "name": "stdout",
     "output_type": "stream",
     "text": [
      "Fraction = 0.4 | Rho = 0.1609 ; p = 0.0002\n"
     ]
    },
    {
     "name": "stderr",
     "output_type": "stream",
     "text": [
      "/home/caandersen/.conda/envs/riptide_3.3.6/lib/python3.13/multiprocessing/popen_fork.py:67: DeprecationWarning: This process (pid=8791) is multi-threaded, use of fork() may lead to deadlocks in the child.\n",
      "  self.pid = os.fork()\n"
     ]
    },
    {
     "name": "stdout",
     "output_type": "stream",
     "text": [
      "Fraction = 0.45 | Rho = 0.1507 ; p = 0.0005\n"
     ]
    },
    {
     "name": "stderr",
     "output_type": "stream",
     "text": [
      "/home/caandersen/.conda/envs/riptide_3.3.6/lib/python3.13/multiprocessing/popen_fork.py:67: DeprecationWarning: This process (pid=8791) is multi-threaded, use of fork() may lead to deadlocks in the child.\n",
      "  self.pid = os.fork()\n"
     ]
    },
    {
     "name": "stdout",
     "output_type": "stream",
     "text": [
      "Fraction = 0.5 | Rho = 0.1385 ; p = 0.0014\n"
     ]
    },
    {
     "name": "stderr",
     "output_type": "stream",
     "text": [
      "/home/caandersen/.conda/envs/riptide_3.3.6/lib/python3.13/multiprocessing/popen_fork.py:67: DeprecationWarning: This process (pid=8791) is multi-threaded, use of fork() may lead to deadlocks in the child.\n",
      "  self.pid = os.fork()\n"
     ]
    },
    {
     "name": "stdout",
     "output_type": "stream",
     "text": [
      "Fraction = 0.55 | Rho = 0.0982 ; p = 0.0235\n"
     ]
    },
    {
     "name": "stderr",
     "output_type": "stream",
     "text": [
      "/home/caandersen/.conda/envs/riptide_3.3.6/lib/python3.13/multiprocessing/popen_fork.py:67: DeprecationWarning: This process (pid=8791) is multi-threaded, use of fork() may lead to deadlocks in the child.\n",
      "  self.pid = os.fork()\n"
     ]
    },
    {
     "name": "stdout",
     "output_type": "stream",
     "text": [
      "Fraction = 0.6 | Rho = 0.1235 ; p = 0.0043\n"
     ]
    },
    {
     "name": "stderr",
     "output_type": "stream",
     "text": [
      "/home/caandersen/.conda/envs/riptide_3.3.6/lib/python3.13/multiprocessing/popen_fork.py:67: DeprecationWarning: This process (pid=8791) is multi-threaded, use of fork() may lead to deadlocks in the child.\n",
      "  self.pid = os.fork()\n"
     ]
    },
    {
     "name": "stdout",
     "output_type": "stream",
     "text": [
      "Fraction = 0.65 | Rho = 0.1519 ; p = 0.0004\n"
     ]
    },
    {
     "name": "stderr",
     "output_type": "stream",
     "text": [
      "/home/caandersen/.conda/envs/riptide_3.3.6/lib/python3.13/multiprocessing/popen_fork.py:67: DeprecationWarning: This process (pid=8791) is multi-threaded, use of fork() may lead to deadlocks in the child.\n",
      "  self.pid = os.fork()\n"
     ]
    },
    {
     "name": "stdout",
     "output_type": "stream",
     "text": [
      "Fraction = 0.7 | Rho = 0.1417 ; p = 0.001\n"
     ]
    },
    {
     "name": "stderr",
     "output_type": "stream",
     "text": [
      "/home/caandersen/.conda/envs/riptide_3.3.6/lib/python3.13/multiprocessing/popen_fork.py:67: DeprecationWarning: This process (pid=8791) is multi-threaded, use of fork() may lead to deadlocks in the child.\n",
      "  self.pid = os.fork()\n"
     ]
    },
    {
     "name": "stdout",
     "output_type": "stream",
     "text": [
      "Fraction = 0.75 | Rho = 0.1365 ; p = 0.0016\n"
     ]
    },
    {
     "name": "stderr",
     "output_type": "stream",
     "text": [
      "/home/caandersen/.conda/envs/riptide_3.3.6/lib/python3.13/multiprocessing/popen_fork.py:67: DeprecationWarning: This process (pid=8791) is multi-threaded, use of fork() may lead to deadlocks in the child.\n",
      "  self.pid = os.fork()\n"
     ]
    },
    {
     "name": "stdout",
     "output_type": "stream",
     "text": [
      "Fraction = 0.8 | Rho = 0.1423 ; p = 0.001\n"
     ]
    },
    {
     "name": "stderr",
     "output_type": "stream",
     "text": [
      "/home/caandersen/.conda/envs/riptide_3.3.6/lib/python3.13/multiprocessing/popen_fork.py:67: DeprecationWarning: This process (pid=8791) is multi-threaded, use of fork() may lead to deadlocks in the child.\n",
      "  self.pid = os.fork()\n"
     ]
    },
    {
     "name": "stdout",
     "output_type": "stream",
     "text": [
      "Fraction = 0.85 | Rho = 0.0995 ; p = 0.0222\n"
     ]
    },
    {
     "name": "stderr",
     "output_type": "stream",
     "text": [
      "/home/caandersen/.conda/envs/riptide_3.3.6/lib/python3.13/multiprocessing/popen_fork.py:67: DeprecationWarning: This process (pid=8791) is multi-threaded, use of fork() may lead to deadlocks in the child.\n",
      "  self.pid = os.fork()\n"
     ]
    },
    {
     "name": "stdout",
     "output_type": "stream",
     "text": [
      "Fraction = 0.9 | Rho = 0.14 ; p = 0.0012\n",
      "Testing local objective fractions to 0.4...\n"
     ]
    },
    {
     "name": "stderr",
     "output_type": "stream",
     "text": [
      "/home/caandersen/.conda/envs/riptide_3.3.6/lib/python3.13/multiprocessing/popen_fork.py:67: DeprecationWarning: This process (pid=8791) is multi-threaded, use of fork() may lead to deadlocks in the child.\n",
      "  self.pid = os.fork()\n"
     ]
    },
    {
     "name": "stdout",
     "output_type": "stream",
     "text": [
      "Fraction = 0.375 | Rho = 0.1085 ; p = 0.0125\n"
     ]
    },
    {
     "name": "stderr",
     "output_type": "stream",
     "text": [
      "/home/caandersen/.conda/envs/riptide_3.3.6/lib/python3.13/multiprocessing/popen_fork.py:67: DeprecationWarning: This process (pid=8791) is multi-threaded, use of fork() may lead to deadlocks in the child.\n",
      "  self.pid = os.fork()\n"
     ]
    },
    {
     "name": "stdout",
     "output_type": "stream",
     "text": [
      "Fraction = 0.425 | Rho = 0.1369 ; p = 0.0016\n",
      "\n",
      "Context-specific metabolism fit with 0.4 of optimal objective flux\n",
      "\n",
      "Reactions pruned to 529 from 1424 (62.85% change)\n",
      "Metabolites pruned to 501 from 1263 (60.33% change)\n",
      "Flux through the objective DECREASED to ~21.55 from ~33.81 (36.26% change)\n",
      "Context-specific metabolism correlates with transcriptome (r=0.161, p<0.001 *)\n",
      "\n",
      "Maxfit RIPTiDe completed in, 7 minutes and 41 seconds \n",
      "\n"
     ]
    }
   ],
   "source": [
    "mf_ngo_1h_130 = riptide.maxfit_contextualize(model=ngo557, transcriptome=ts_ngo_1h_130, open_exchanges=True)"
   ]
  },
  {
   "cell_type": "code",
   "execution_count": 9,
   "id": "e1dd9966-c174-4099-9e27-91e5d3aaf691",
   "metadata": {},
   "outputs": [
    {
     "name": "stdout",
     "output_type": "stream",
     "text": [
      "\n",
      "Running max fit RIPTiDe for objective fraction range: 0.35 to 0.95 with intervals of 0.05 \n",
      "\n",
      "Testing minimum objective fractions...\n"
     ]
    },
    {
     "name": "stderr",
     "output_type": "stream",
     "text": [
      "/home/caandersen/.conda/envs/riptide_3.3.6/lib/python3.13/multiprocessing/popen_fork.py:67: DeprecationWarning: This process (pid=8791) is multi-threaded, use of fork() may lead to deadlocks in the child.\n",
      "  self.pid = os.fork()\n"
     ]
    },
    {
     "name": "stdout",
     "output_type": "stream",
     "text": [
      "Fraction = 0.35 | Rho = 0.1257 ; p = 0.0039\n"
     ]
    },
    {
     "name": "stderr",
     "output_type": "stream",
     "text": [
      "/home/caandersen/.conda/envs/riptide_3.3.6/lib/python3.13/multiprocessing/popen_fork.py:67: DeprecationWarning: This process (pid=8791) is multi-threaded, use of fork() may lead to deadlocks in the child.\n",
      "  self.pid = os.fork()\n"
     ]
    },
    {
     "name": "stdout",
     "output_type": "stream",
     "text": [
      "Fraction = 0.4 | Rho = 0.135 ; p = 0.0019\n"
     ]
    },
    {
     "name": "stderr",
     "output_type": "stream",
     "text": [
      "/home/caandersen/.conda/envs/riptide_3.3.6/lib/python3.13/multiprocessing/popen_fork.py:67: DeprecationWarning: This process (pid=8791) is multi-threaded, use of fork() may lead to deadlocks in the child.\n",
      "  self.pid = os.fork()\n"
     ]
    },
    {
     "name": "stdout",
     "output_type": "stream",
     "text": [
      "Fraction = 0.45 | Rho = 0.137 ; p = 0.0016\n"
     ]
    },
    {
     "name": "stderr",
     "output_type": "stream",
     "text": [
      "/home/caandersen/.conda/envs/riptide_3.3.6/lib/python3.13/multiprocessing/popen_fork.py:67: DeprecationWarning: This process (pid=8791) is multi-threaded, use of fork() may lead to deadlocks in the child.\n",
      "  self.pid = os.fork()\n"
     ]
    },
    {
     "name": "stdout",
     "output_type": "stream",
     "text": [
      "Fraction = 0.5 | Rho = 0.1352 ; p = 0.0019\n"
     ]
    },
    {
     "name": "stderr",
     "output_type": "stream",
     "text": [
      "/home/caandersen/.conda/envs/riptide_3.3.6/lib/python3.13/multiprocessing/popen_fork.py:67: DeprecationWarning: This process (pid=8791) is multi-threaded, use of fork() may lead to deadlocks in the child.\n",
      "  self.pid = os.fork()\n"
     ]
    },
    {
     "name": "stdout",
     "output_type": "stream",
     "text": [
      "Fraction = 0.55 | Rho = 0.1171 ; p = 0.0074\n"
     ]
    },
    {
     "name": "stderr",
     "output_type": "stream",
     "text": [
      "/home/caandersen/.conda/envs/riptide_3.3.6/lib/python3.13/multiprocessing/popen_fork.py:67: DeprecationWarning: This process (pid=8791) is multi-threaded, use of fork() may lead to deadlocks in the child.\n",
      "  self.pid = os.fork()\n"
     ]
    },
    {
     "name": "stdout",
     "output_type": "stream",
     "text": [
      "Fraction = 0.6 | Rho = 0.0956 ; p = 0.0291\n"
     ]
    },
    {
     "name": "stderr",
     "output_type": "stream",
     "text": [
      "/home/caandersen/.conda/envs/riptide_3.3.6/lib/python3.13/multiprocessing/popen_fork.py:67: DeprecationWarning: This process (pid=8791) is multi-threaded, use of fork() may lead to deadlocks in the child.\n",
      "  self.pid = os.fork()\n"
     ]
    },
    {
     "name": "stdout",
     "output_type": "stream",
     "text": [
      "Fraction = 0.65 | Rho = 0.1123 ; p = 0.0101\n"
     ]
    },
    {
     "name": "stderr",
     "output_type": "stream",
     "text": [
      "/home/caandersen/.conda/envs/riptide_3.3.6/lib/python3.13/multiprocessing/popen_fork.py:67: DeprecationWarning: This process (pid=8791) is multi-threaded, use of fork() may lead to deadlocks in the child.\n",
      "  self.pid = os.fork()\n"
     ]
    },
    {
     "name": "stdout",
     "output_type": "stream",
     "text": [
      "Fraction = 0.7 | Rho = 0.1484 ; p = 0.0006\n"
     ]
    },
    {
     "name": "stderr",
     "output_type": "stream",
     "text": [
      "/home/caandersen/.conda/envs/riptide_3.3.6/lib/python3.13/multiprocessing/popen_fork.py:67: DeprecationWarning: This process (pid=8791) is multi-threaded, use of fork() may lead to deadlocks in the child.\n",
      "  self.pid = os.fork()\n"
     ]
    },
    {
     "name": "stdout",
     "output_type": "stream",
     "text": [
      "Fraction = 0.75 | Rho = 0.1517 ; p = 0.0005\n"
     ]
    },
    {
     "name": "stderr",
     "output_type": "stream",
     "text": [
      "/home/caandersen/.conda/envs/riptide_3.3.6/lib/python3.13/multiprocessing/popen_fork.py:67: DeprecationWarning: This process (pid=8791) is multi-threaded, use of fork() may lead to deadlocks in the child.\n",
      "  self.pid = os.fork()\n"
     ]
    },
    {
     "name": "stdout",
     "output_type": "stream",
     "text": [
      "Fraction = 0.8 | Rho = 0.1367 ; p = 0.0017\n"
     ]
    },
    {
     "name": "stderr",
     "output_type": "stream",
     "text": [
      "/home/caandersen/.conda/envs/riptide_3.3.6/lib/python3.13/multiprocessing/popen_fork.py:67: DeprecationWarning: This process (pid=8791) is multi-threaded, use of fork() may lead to deadlocks in the child.\n",
      "  self.pid = os.fork()\n"
     ]
    },
    {
     "name": "stdout",
     "output_type": "stream",
     "text": [
      "Fraction = 0.85 | Rho = 0.1239 ; p = 0.0045\n"
     ]
    },
    {
     "name": "stderr",
     "output_type": "stream",
     "text": [
      "/home/caandersen/.conda/envs/riptide_3.3.6/lib/python3.13/multiprocessing/popen_fork.py:67: DeprecationWarning: This process (pid=8791) is multi-threaded, use of fork() may lead to deadlocks in the child.\n",
      "  self.pid = os.fork()\n"
     ]
    },
    {
     "name": "stdout",
     "output_type": "stream",
     "text": [
      "Fraction = 0.9 | Rho = 0.1697 ; p = 0.0001\n",
      "Testing local objective fractions to 0.9...\n"
     ]
    },
    {
     "name": "stderr",
     "output_type": "stream",
     "text": [
      "/home/caandersen/.conda/envs/riptide_3.3.6/lib/python3.13/multiprocessing/popen_fork.py:67: DeprecationWarning: This process (pid=8791) is multi-threaded, use of fork() may lead to deadlocks in the child.\n",
      "  self.pid = os.fork()\n"
     ]
    },
    {
     "name": "stdout",
     "output_type": "stream",
     "text": [
      "Fraction = 0.875 | Rho = 0.1718 ; p = 0.0001\n"
     ]
    },
    {
     "name": "stderr",
     "output_type": "stream",
     "text": [
      "/home/caandersen/.conda/envs/riptide_3.3.6/lib/python3.13/multiprocessing/popen_fork.py:67: DeprecationWarning: This process (pid=8791) is multi-threaded, use of fork() may lead to deadlocks in the child.\n",
      "  self.pid = os.fork()\n"
     ]
    },
    {
     "name": "stdout",
     "output_type": "stream",
     "text": [
      "Fraction = 0.925 | Rho = 0.153 ; p = 0.0004\n",
      "\n",
      "Context-specific metabolism fit with 0.875 of optimal objective flux\n",
      "\n",
      "Reactions pruned to 524 from 1424 (63.2% change)\n",
      "Metabolites pruned to 509 from 1263 (59.7% change)\n",
      "Flux through the objective DECREASED to ~30.97 from ~33.81 (8.4% change)\n",
      "Context-specific metabolism correlates with transcriptome (r=0.172, p<0.001 *)\n",
      "\n",
      "Maxfit RIPTiDe completed in, 8 minutes and 34 seconds \n",
      "\n"
     ]
    }
   ],
   "source": [
    "mf_ngo_0h_3x130 = riptide.maxfit_contextualize(model=ngo557, transcriptome=ts_ngo_0h_3x130, open_exchanges=True)"
   ]
  },
  {
   "cell_type": "code",
   "execution_count": 10,
   "id": "573002d4-d023-4174-b529-11deafdc5267",
   "metadata": {},
   "outputs": [
    {
     "name": "stdout",
     "output_type": "stream",
     "text": [
      "\n",
      "Running max fit RIPTiDe for objective fraction range: 0.35 to 0.95 with intervals of 0.05 \n",
      "\n",
      "Testing minimum objective fractions...\n"
     ]
    },
    {
     "name": "stderr",
     "output_type": "stream",
     "text": [
      "/home/caandersen/.conda/envs/riptide_3.3.6/lib/python3.13/multiprocessing/popen_fork.py:67: DeprecationWarning: This process (pid=8791) is multi-threaded, use of fork() may lead to deadlocks in the child.\n",
      "  self.pid = os.fork()\n"
     ]
    },
    {
     "name": "stdout",
     "output_type": "stream",
     "text": [
      "Fraction = 0.35 | Rho = 0.2249 ; p = 0.0\n"
     ]
    },
    {
     "name": "stderr",
     "output_type": "stream",
     "text": [
      "/home/caandersen/.conda/envs/riptide_3.3.6/lib/python3.13/multiprocessing/popen_fork.py:67: DeprecationWarning: This process (pid=8791) is multi-threaded, use of fork() may lead to deadlocks in the child.\n",
      "  self.pid = os.fork()\n"
     ]
    },
    {
     "name": "stdout",
     "output_type": "stream",
     "text": [
      "Fraction = 0.4 | Rho = 0.219 ; p = 0.0\n"
     ]
    },
    {
     "name": "stderr",
     "output_type": "stream",
     "text": [
      "/home/caandersen/.conda/envs/riptide_3.3.6/lib/python3.13/multiprocessing/popen_fork.py:67: DeprecationWarning: This process (pid=8791) is multi-threaded, use of fork() may lead to deadlocks in the child.\n",
      "  self.pid = os.fork()\n"
     ]
    },
    {
     "name": "stdout",
     "output_type": "stream",
     "text": [
      "Fraction = 0.45 | Rho = 0.2343 ; p = 0.0\n"
     ]
    },
    {
     "name": "stderr",
     "output_type": "stream",
     "text": [
      "/home/caandersen/.conda/envs/riptide_3.3.6/lib/python3.13/multiprocessing/popen_fork.py:67: DeprecationWarning: This process (pid=8791) is multi-threaded, use of fork() may lead to deadlocks in the child.\n",
      "  self.pid = os.fork()\n"
     ]
    },
    {
     "name": "stdout",
     "output_type": "stream",
     "text": [
      "Fraction = 0.5 | Rho = 0.14 ; p = 0.0011\n"
     ]
    },
    {
     "name": "stderr",
     "output_type": "stream",
     "text": [
      "/home/caandersen/.conda/envs/riptide_3.3.6/lib/python3.13/multiprocessing/popen_fork.py:67: DeprecationWarning: This process (pid=8791) is multi-threaded, use of fork() may lead to deadlocks in the child.\n",
      "  self.pid = os.fork()\n"
     ]
    },
    {
     "name": "stdout",
     "output_type": "stream",
     "text": [
      "Fraction = 0.55 | Rho = 0.1644 ; p = 0.0001\n"
     ]
    },
    {
     "name": "stderr",
     "output_type": "stream",
     "text": [
      "/home/caandersen/.conda/envs/riptide_3.3.6/lib/python3.13/multiprocessing/popen_fork.py:67: DeprecationWarning: This process (pid=8791) is multi-threaded, use of fork() may lead to deadlocks in the child.\n",
      "  self.pid = os.fork()\n"
     ]
    },
    {
     "name": "stdout",
     "output_type": "stream",
     "text": [
      "Fraction = 0.6 | Rho = 0.1635 ; p = 0.0001\n"
     ]
    },
    {
     "name": "stderr",
     "output_type": "stream",
     "text": [
      "/home/caandersen/.conda/envs/riptide_3.3.6/lib/python3.13/multiprocessing/popen_fork.py:67: DeprecationWarning: This process (pid=8791) is multi-threaded, use of fork() may lead to deadlocks in the child.\n",
      "  self.pid = os.fork()\n"
     ]
    },
    {
     "name": "stdout",
     "output_type": "stream",
     "text": [
      "Fraction = 0.65 | Rho = 0.1737 ; p = 0.0\n"
     ]
    },
    {
     "name": "stderr",
     "output_type": "stream",
     "text": [
      "/home/caandersen/.conda/envs/riptide_3.3.6/lib/python3.13/multiprocessing/popen_fork.py:67: DeprecationWarning: This process (pid=8791) is multi-threaded, use of fork() may lead to deadlocks in the child.\n",
      "  self.pid = os.fork()\n"
     ]
    },
    {
     "name": "stdout",
     "output_type": "stream",
     "text": [
      "Fraction = 0.7 | Rho = 0.1691 ; p = 0.0001\n"
     ]
    },
    {
     "name": "stderr",
     "output_type": "stream",
     "text": [
      "/home/caandersen/.conda/envs/riptide_3.3.6/lib/python3.13/multiprocessing/popen_fork.py:67: DeprecationWarning: This process (pid=8791) is multi-threaded, use of fork() may lead to deadlocks in the child.\n",
      "  self.pid = os.fork()\n"
     ]
    },
    {
     "name": "stdout",
     "output_type": "stream",
     "text": [
      "Fraction = 0.75 | Rho = 0.1754 ; p = 0.0\n"
     ]
    },
    {
     "name": "stderr",
     "output_type": "stream",
     "text": [
      "/home/caandersen/.conda/envs/riptide_3.3.6/lib/python3.13/multiprocessing/popen_fork.py:67: DeprecationWarning: This process (pid=8791) is multi-threaded, use of fork() may lead to deadlocks in the child.\n",
      "  self.pid = os.fork()\n"
     ]
    },
    {
     "name": "stdout",
     "output_type": "stream",
     "text": [
      "Fraction = 0.8 | Rho = 0.1331 ; p = 0.0016\n"
     ]
    },
    {
     "name": "stderr",
     "output_type": "stream",
     "text": [
      "/home/caandersen/.conda/envs/riptide_3.3.6/lib/python3.13/multiprocessing/popen_fork.py:67: DeprecationWarning: This process (pid=8791) is multi-threaded, use of fork() may lead to deadlocks in the child.\n",
      "  self.pid = os.fork()\n"
     ]
    },
    {
     "name": "stdout",
     "output_type": "stream",
     "text": [
      "Fraction = 0.85 | Rho = 0.1238 ; p = 0.0034\n"
     ]
    },
    {
     "name": "stderr",
     "output_type": "stream",
     "text": [
      "/home/caandersen/.conda/envs/riptide_3.3.6/lib/python3.13/multiprocessing/popen_fork.py:67: DeprecationWarning: This process (pid=8791) is multi-threaded, use of fork() may lead to deadlocks in the child.\n",
      "  self.pid = os.fork()\n"
     ]
    },
    {
     "name": "stdout",
     "output_type": "stream",
     "text": [
      "Fraction = 0.9 | Rho = 0.1561 ; p = 0.0002\n",
      "Testing local objective fractions to 0.45...\n"
     ]
    },
    {
     "name": "stderr",
     "output_type": "stream",
     "text": [
      "/home/caandersen/.conda/envs/riptide_3.3.6/lib/python3.13/multiprocessing/popen_fork.py:67: DeprecationWarning: This process (pid=8791) is multi-threaded, use of fork() may lead to deadlocks in the child.\n",
      "  self.pid = os.fork()\n"
     ]
    },
    {
     "name": "stdout",
     "output_type": "stream",
     "text": [
      "Fraction = 0.425 | Rho = 0.213 ; p = 0.0\n"
     ]
    },
    {
     "name": "stderr",
     "output_type": "stream",
     "text": [
      "/home/caandersen/.conda/envs/riptide_3.3.6/lib/python3.13/multiprocessing/popen_fork.py:67: DeprecationWarning: This process (pid=8791) is multi-threaded, use of fork() may lead to deadlocks in the child.\n",
      "  self.pid = os.fork()\n"
     ]
    },
    {
     "name": "stdout",
     "output_type": "stream",
     "text": [
      "Fraction = 0.475 | Rho = 0.2164 ; p = 0.0\n",
      "\n",
      "Context-specific metabolism fit with 0.45 of optimal objective flux\n",
      "\n",
      "Reactions pruned to 528 from 1424 (62.92% change)\n",
      "Metabolites pruned to 503 from 1263 (60.17% change)\n",
      "Flux through the objective DECREASED to ~13.58 from ~33.81 (59.83% change)\n",
      "Context-specific metabolism correlates with transcriptome (r=0.234, p<0.001 *)\n",
      "\n",
      "Maxfit RIPTiDe completed in, 11 minutes and 4 seconds \n",
      "\n"
     ]
    }
   ],
   "source": [
    "mf_ngo_1h_3x130 = riptide.maxfit_contextualize(model=ngo557, transcriptome=ts_ngo_1h_3x130, open_exchanges=True)"
   ]
  },
  {
   "cell_type": "code",
   "execution_count": 11,
   "id": "0d092811-f76c-42d6-9cc0-6bbebab5bb02",
   "metadata": {},
   "outputs": [
    {
     "name": "stdout",
     "output_type": "stream",
     "text": [
      "\n",
      "Running max fit RIPTiDe for objective fraction range: 0.35 to 0.95 with intervals of 0.05 \n",
      "\n",
      "Testing minimum objective fractions...\n"
     ]
    },
    {
     "name": "stderr",
     "output_type": "stream",
     "text": [
      "/home/caandersen/.conda/envs/riptide_3.3.6/lib/python3.13/multiprocessing/popen_fork.py:67: DeprecationWarning: This process (pid=8791) is multi-threaded, use of fork() may lead to deadlocks in the child.\n",
      "  self.pid = os.fork()\n"
     ]
    },
    {
     "name": "stdout",
     "output_type": "stream",
     "text": [
      "Fraction = 0.35 | Rho = 0.2281 ; p = 0.0\n"
     ]
    },
    {
     "name": "stderr",
     "output_type": "stream",
     "text": [
      "/home/caandersen/.conda/envs/riptide_3.3.6/lib/python3.13/multiprocessing/popen_fork.py:67: DeprecationWarning: This process (pid=8791) is multi-threaded, use of fork() may lead to deadlocks in the child.\n",
      "  self.pid = os.fork()\n"
     ]
    },
    {
     "name": "stdout",
     "output_type": "stream",
     "text": [
      "Fraction = 0.4 | Rho = 0.2111 ; p = 0.0\n"
     ]
    },
    {
     "name": "stderr",
     "output_type": "stream",
     "text": [
      "/home/caandersen/.conda/envs/riptide_3.3.6/lib/python3.13/multiprocessing/popen_fork.py:67: DeprecationWarning: This process (pid=8791) is multi-threaded, use of fork() may lead to deadlocks in the child.\n",
      "  self.pid = os.fork()\n"
     ]
    },
    {
     "name": "stdout",
     "output_type": "stream",
     "text": [
      "Fraction = 0.45 | Rho = 0.2207 ; p = 0.0\n"
     ]
    },
    {
     "name": "stderr",
     "output_type": "stream",
     "text": [
      "/home/caandersen/.conda/envs/riptide_3.3.6/lib/python3.13/multiprocessing/popen_fork.py:67: DeprecationWarning: This process (pid=8791) is multi-threaded, use of fork() may lead to deadlocks in the child.\n",
      "  self.pid = os.fork()\n"
     ]
    },
    {
     "name": "stdout",
     "output_type": "stream",
     "text": [
      "Fraction = 0.5 | Rho = 0.1749 ; p = 0.0001\n"
     ]
    },
    {
     "name": "stderr",
     "output_type": "stream",
     "text": [
      "/home/caandersen/.conda/envs/riptide_3.3.6/lib/python3.13/multiprocessing/popen_fork.py:67: DeprecationWarning: This process (pid=8791) is multi-threaded, use of fork() may lead to deadlocks in the child.\n",
      "  self.pid = os.fork()\n"
     ]
    },
    {
     "name": "stdout",
     "output_type": "stream",
     "text": [
      "Fraction = 0.55 | Rho = 0.176 ; p = 0.0001\n"
     ]
    },
    {
     "name": "stderr",
     "output_type": "stream",
     "text": [
      "/home/caandersen/.conda/envs/riptide_3.3.6/lib/python3.13/multiprocessing/popen_fork.py:67: DeprecationWarning: This process (pid=8791) is multi-threaded, use of fork() may lead to deadlocks in the child.\n",
      "  self.pid = os.fork()\n"
     ]
    },
    {
     "name": "stdout",
     "output_type": "stream",
     "text": [
      "Fraction = 0.6 | Rho = 0.1772 ; p = 0.0001\n"
     ]
    },
    {
     "name": "stderr",
     "output_type": "stream",
     "text": [
      "/home/caandersen/.conda/envs/riptide_3.3.6/lib/python3.13/multiprocessing/popen_fork.py:67: DeprecationWarning: This process (pid=8791) is multi-threaded, use of fork() may lead to deadlocks in the child.\n",
      "  self.pid = os.fork()\n"
     ]
    },
    {
     "name": "stdout",
     "output_type": "stream",
     "text": [
      "Fraction = 0.65 | Rho = 0.1491 ; p = 0.0007\n"
     ]
    },
    {
     "name": "stderr",
     "output_type": "stream",
     "text": [
      "/home/caandersen/.conda/envs/riptide_3.3.6/lib/python3.13/multiprocessing/popen_fork.py:67: DeprecationWarning: This process (pid=8791) is multi-threaded, use of fork() may lead to deadlocks in the child.\n",
      "  self.pid = os.fork()\n"
     ]
    },
    {
     "name": "stdout",
     "output_type": "stream",
     "text": [
      "Fraction = 0.7 | Rho = 0.1616 ; p = 0.0002\n"
     ]
    },
    {
     "name": "stderr",
     "output_type": "stream",
     "text": [
      "/home/caandersen/.conda/envs/riptide_3.3.6/lib/python3.13/multiprocessing/popen_fork.py:67: DeprecationWarning: This process (pid=8791) is multi-threaded, use of fork() may lead to deadlocks in the child.\n",
      "  self.pid = os.fork()\n"
     ]
    },
    {
     "name": "stdout",
     "output_type": "stream",
     "text": [
      "Fraction = 0.75 | Rho = 0.178 ; p = 0.0\n"
     ]
    },
    {
     "name": "stderr",
     "output_type": "stream",
     "text": [
      "/home/caandersen/.conda/envs/riptide_3.3.6/lib/python3.13/multiprocessing/popen_fork.py:67: DeprecationWarning: This process (pid=8791) is multi-threaded, use of fork() may lead to deadlocks in the child.\n",
      "  self.pid = os.fork()\n"
     ]
    },
    {
     "name": "stdout",
     "output_type": "stream",
     "text": [
      "Fraction = 0.8 | Rho = 0.1766 ; p = 0.0\n"
     ]
    },
    {
     "name": "stderr",
     "output_type": "stream",
     "text": [
      "/home/caandersen/.conda/envs/riptide_3.3.6/lib/python3.13/multiprocessing/popen_fork.py:67: DeprecationWarning: This process (pid=8791) is multi-threaded, use of fork() may lead to deadlocks in the child.\n",
      "  self.pid = os.fork()\n"
     ]
    },
    {
     "name": "stdout",
     "output_type": "stream",
     "text": [
      "Fraction = 0.85 | Rho = 0.171 ; p = 0.0001\n"
     ]
    },
    {
     "name": "stderr",
     "output_type": "stream",
     "text": [
      "/home/caandersen/.conda/envs/riptide_3.3.6/lib/python3.13/multiprocessing/popen_fork.py:67: DeprecationWarning: This process (pid=8791) is multi-threaded, use of fork() may lead to deadlocks in the child.\n",
      "  self.pid = os.fork()\n"
     ]
    },
    {
     "name": "stdout",
     "output_type": "stream",
     "text": [
      "Fraction = 0.9 | Rho = 0.1753 ; p = 0.0001\n",
      "Testing local objective fractions to 0.35...\n"
     ]
    },
    {
     "name": "stderr",
     "output_type": "stream",
     "text": [
      "/home/caandersen/.conda/envs/riptide_3.3.6/lib/python3.13/multiprocessing/popen_fork.py:67: DeprecationWarning: This process (pid=8791) is multi-threaded, use of fork() may lead to deadlocks in the child.\n",
      "  self.pid = os.fork()\n"
     ]
    },
    {
     "name": "stdout",
     "output_type": "stream",
     "text": [
      "Fraction = 0.325 | Rho = 0.2157 ; p = 0.0\n"
     ]
    },
    {
     "name": "stderr",
     "output_type": "stream",
     "text": [
      "/home/caandersen/.conda/envs/riptide_3.3.6/lib/python3.13/multiprocessing/popen_fork.py:67: DeprecationWarning: This process (pid=8791) is multi-threaded, use of fork() may lead to deadlocks in the child.\n",
      "  self.pid = os.fork()\n"
     ]
    },
    {
     "name": "stdout",
     "output_type": "stream",
     "text": [
      "Fraction = 0.375 | Rho = 0.2128 ; p = 0.0\n",
      "\n",
      "Context-specific metabolism fit with 0.35 of optimal objective flux\n",
      "\n",
      "Reactions pruned to 504 from 1424 (64.61% change)\n",
      "Metabolites pruned to 502 from 1263 (60.25% change)\n",
      "Flux through the objective DECREASED to ~11.41 from ~33.81 (66.25% change)\n",
      "Context-specific metabolism correlates with transcriptome (r=0.228, p<0.001 *)\n",
      "\n",
      "Maxfit RIPTiDe completed in, 11 minutes and 35 seconds \n",
      "\n"
     ]
    }
   ],
   "source": [
    "mf_ngo_0h_h041 = riptide.maxfit_contextualize(model=ngo557, transcriptome=ts_ngo_0h_h041, open_exchanges=True)"
   ]
  },
  {
   "cell_type": "code",
   "execution_count": 12,
   "id": "5432e75b-8a20-4d16-98d5-e49695fdfcb9",
   "metadata": {},
   "outputs": [
    {
     "name": "stdout",
     "output_type": "stream",
     "text": [
      "\n",
      "Running max fit RIPTiDe for objective fraction range: 0.35 to 0.95 with intervals of 0.05 \n",
      "\n",
      "Testing minimum objective fractions...\n"
     ]
    },
    {
     "name": "stderr",
     "output_type": "stream",
     "text": [
      "/home/caandersen/.conda/envs/riptide_3.3.6/lib/python3.13/multiprocessing/popen_fork.py:67: DeprecationWarning: This process (pid=8791) is multi-threaded, use of fork() may lead to deadlocks in the child.\n",
      "  self.pid = os.fork()\n"
     ]
    },
    {
     "name": "stdout",
     "output_type": "stream",
     "text": [
      "Fraction = 0.35 | Rho = 0.2111 ; p = 0.0\n"
     ]
    },
    {
     "name": "stderr",
     "output_type": "stream",
     "text": [
      "/home/caandersen/.conda/envs/riptide_3.3.6/lib/python3.13/multiprocessing/popen_fork.py:67: DeprecationWarning: This process (pid=8791) is multi-threaded, use of fork() may lead to deadlocks in the child.\n",
      "  self.pid = os.fork()\n"
     ]
    },
    {
     "name": "stdout",
     "output_type": "stream",
     "text": [
      "Fraction = 0.4 | Rho = 0.2078 ; p = 0.0\n"
     ]
    },
    {
     "name": "stderr",
     "output_type": "stream",
     "text": [
      "/home/caandersen/.conda/envs/riptide_3.3.6/lib/python3.13/multiprocessing/popen_fork.py:67: DeprecationWarning: This process (pid=8791) is multi-threaded, use of fork() may lead to deadlocks in the child.\n",
      "  self.pid = os.fork()\n"
     ]
    },
    {
     "name": "stdout",
     "output_type": "stream",
     "text": [
      "Fraction = 0.45 | Rho = 0.2115 ; p = 0.0\n"
     ]
    },
    {
     "name": "stderr",
     "output_type": "stream",
     "text": [
      "/home/caandersen/.conda/envs/riptide_3.3.6/lib/python3.13/multiprocessing/popen_fork.py:67: DeprecationWarning: This process (pid=8791) is multi-threaded, use of fork() may lead to deadlocks in the child.\n",
      "  self.pid = os.fork()\n"
     ]
    },
    {
     "name": "stdout",
     "output_type": "stream",
     "text": [
      "Fraction = 0.5 | Rho = 0.0847 ; p = 0.0486\n"
     ]
    },
    {
     "name": "stderr",
     "output_type": "stream",
     "text": [
      "/home/caandersen/.conda/envs/riptide_3.3.6/lib/python3.13/multiprocessing/popen_fork.py:67: DeprecationWarning: This process (pid=8791) is multi-threaded, use of fork() may lead to deadlocks in the child.\n",
      "  self.pid = os.fork()\n"
     ]
    },
    {
     "name": "stdout",
     "output_type": "stream",
     "text": [
      "Fraction = 0.55 | Rho = 0.1589 ; p = 0.0002\n"
     ]
    },
    {
     "name": "stderr",
     "output_type": "stream",
     "text": [
      "/home/caandersen/.conda/envs/riptide_3.3.6/lib/python3.13/multiprocessing/popen_fork.py:67: DeprecationWarning: This process (pid=8791) is multi-threaded, use of fork() may lead to deadlocks in the child.\n",
      "  self.pid = os.fork()\n"
     ]
    },
    {
     "name": "stdout",
     "output_type": "stream",
     "text": [
      "Fraction = 0.6 | Rho = 0.1384 ; p = 0.0012\n"
     ]
    },
    {
     "name": "stderr",
     "output_type": "stream",
     "text": [
      "/home/caandersen/.conda/envs/riptide_3.3.6/lib/python3.13/multiprocessing/popen_fork.py:67: DeprecationWarning: This process (pid=8791) is multi-threaded, use of fork() may lead to deadlocks in the child.\n",
      "  self.pid = os.fork()\n"
     ]
    },
    {
     "name": "stdout",
     "output_type": "stream",
     "text": [
      "Fraction = 0.65 | Rho = 0.1816 ; p = 0.0\n"
     ]
    },
    {
     "name": "stderr",
     "output_type": "stream",
     "text": [
      "/home/caandersen/.conda/envs/riptide_3.3.6/lib/python3.13/multiprocessing/popen_fork.py:67: DeprecationWarning: This process (pid=8791) is multi-threaded, use of fork() may lead to deadlocks in the child.\n",
      "  self.pid = os.fork()\n"
     ]
    },
    {
     "name": "stdout",
     "output_type": "stream",
     "text": [
      "Fraction = 0.7 | Rho = 0.1515 ; p = 0.0004\n"
     ]
    },
    {
     "name": "stderr",
     "output_type": "stream",
     "text": [
      "/home/caandersen/.conda/envs/riptide_3.3.6/lib/python3.13/multiprocessing/popen_fork.py:67: DeprecationWarning: This process (pid=8791) is multi-threaded, use of fork() may lead to deadlocks in the child.\n",
      "  self.pid = os.fork()\n"
     ]
    },
    {
     "name": "stdout",
     "output_type": "stream",
     "text": [
      "Fraction = 0.75 | Rho = 0.1662 ; p = 0.0001\n"
     ]
    },
    {
     "name": "stderr",
     "output_type": "stream",
     "text": [
      "/home/caandersen/.conda/envs/riptide_3.3.6/lib/python3.13/multiprocessing/popen_fork.py:67: DeprecationWarning: This process (pid=8791) is multi-threaded, use of fork() may lead to deadlocks in the child.\n",
      "  self.pid = os.fork()\n"
     ]
    },
    {
     "name": "stdout",
     "output_type": "stream",
     "text": [
      "Fraction = 0.8 | Rho = 0.1348 ; p = 0.0015\n"
     ]
    },
    {
     "name": "stderr",
     "output_type": "stream",
     "text": [
      "/home/caandersen/.conda/envs/riptide_3.3.6/lib/python3.13/multiprocessing/popen_fork.py:67: DeprecationWarning: This process (pid=8791) is multi-threaded, use of fork() may lead to deadlocks in the child.\n",
      "  self.pid = os.fork()\n"
     ]
    },
    {
     "name": "stdout",
     "output_type": "stream",
     "text": [
      "Fraction = 0.85 | Rho = 0.1869 ; p = 0.0\n"
     ]
    },
    {
     "name": "stderr",
     "output_type": "stream",
     "text": [
      "/home/caandersen/.conda/envs/riptide_3.3.6/lib/python3.13/multiprocessing/popen_fork.py:67: DeprecationWarning: This process (pid=8791) is multi-threaded, use of fork() may lead to deadlocks in the child.\n",
      "  self.pid = os.fork()\n"
     ]
    },
    {
     "name": "stdout",
     "output_type": "stream",
     "text": [
      "Fraction = 0.9 | Rho = 0.1601 ; p = 0.0002\n",
      "Testing local objective fractions to 0.45...\n"
     ]
    },
    {
     "name": "stderr",
     "output_type": "stream",
     "text": [
      "/home/caandersen/.conda/envs/riptide_3.3.6/lib/python3.13/multiprocessing/popen_fork.py:67: DeprecationWarning: This process (pid=8791) is multi-threaded, use of fork() may lead to deadlocks in the child.\n",
      "  self.pid = os.fork()\n"
     ]
    },
    {
     "name": "stdout",
     "output_type": "stream",
     "text": [
      "Fraction = 0.425 | Rho = 0.2071 ; p = 0.0\n"
     ]
    },
    {
     "name": "stderr",
     "output_type": "stream",
     "text": [
      "/home/caandersen/.conda/envs/riptide_3.3.6/lib/python3.13/multiprocessing/popen_fork.py:67: DeprecationWarning: This process (pid=8791) is multi-threaded, use of fork() may lead to deadlocks in the child.\n",
      "  self.pid = os.fork()\n"
     ]
    },
    {
     "name": "stdout",
     "output_type": "stream",
     "text": [
      "Fraction = 0.475 | Rho = 0.1784 ; p = 0.0\n",
      "\n",
      "Context-specific metabolism fit with 0.45 of optimal objective flux\n",
      "\n",
      "Reactions pruned to 533 from 1424 (62.57% change)\n",
      "Metabolites pruned to 506 from 1263 (59.94% change)\n",
      "Flux through the objective DECREASED to ~17.01 from ~33.81 (49.69% change)\n",
      "Context-specific metabolism correlates with transcriptome (r=0.211, p<0.001 *)\n",
      "\n",
      "Maxfit RIPTiDe completed in, 13 minutes and 38 seconds \n",
      "\n"
     ]
    }
   ],
   "source": [
    "mf_ngo_1h_h041 = riptide.maxfit_contextualize(model=ngo557, transcriptome=ts_ngo_1h_h041, open_exchanges=True)"
   ]
  },
  {
   "cell_type": "code",
   "execution_count": 15,
   "id": "414e9f59-bcee-4ce9-bb52-0ca5eaee79d0",
   "metadata": {},
   "outputs": [],
   "source": [
    "def save_riptide_run(result, tag, base_dir=\"outputdata/mfit_outputs\", original_model=None):\n",
    "    \"\"\"\n",
    "    Save core outputs from a RIPTiDe run into: <CWD>/<base_dir>/<tag>/\n",
    "\n",
    "    Writes:\n",
    "      - <tag>_model.json           (pruned COBRA model)\n",
    "      - <tag>_flux_samples.tsv     (flux samples table)\n",
    "      - <tag>_kept_reactions.txt   (optional; if original_model provided)\n",
    "      - <tag>_pruned_reactions.txt (optional; if original_model provided)\n",
    "      - <tag>_biomass_stats.csv    (quick summary of biomass column if present)\n",
    "\n",
    "    Returns: dict of written file paths.\n",
    "    \"\"\"\n",
    "    outdir = os.path.join(base_dir, tag)\n",
    "    os.makedirs(outdir, exist_ok=True)\n",
    "\n",
    "    paths = {}\n",
    "\n",
    "    # 1) pruned model\n",
    "    paths[\"model_json\"] = os.path.join(outdir, f\"{tag}_model.json\")\n",
    "    cobra.io.save_json_model(result.model, paths[\"model_json\"])\n",
    "\n",
    "    # 2) flux samples\n",
    "    paths[\"flux_samples\"] = os.path.join(outdir, f\"{tag}_flux_samples.tsv\")\n",
    "    result.flux_samples.to_csv(paths[\"flux_samples\"], sep=\"\\t\", index=False)\n",
    "\n",
    "    # 3) optional kept/pruned reaction lists\n",
    "    if original_model is not None:\n",
    "        all_rxns = set(original_model.reactions.list_attr(\"id\"))\n",
    "        kept_rxns = set(result.model.reactions.list_attr(\"id\"))\n",
    "        pruned_rxns = sorted(all_rxns - kept_rxns)\n",
    "        kept_rxns = sorted(kept_rxns)\n",
    "\n",
    "        paths[\"kept_reactions\"] = os.path.join(outdir, f\"{tag}_kept_reactions.txt\")\n",
    "        paths[\"pruned_reactions\"] = os.path.join(outdir, f\"{tag}_pruned_reactions.txt\")\n",
    "        pd.Series(kept_rxns).to_csv(paths[\"kept_reactions\"], index=False, header=False)\n",
    "        pd.Series(pruned_rxns).to_csv(paths[\"pruned_reactions\"], index=False, header=False)\n",
    "\n",
    "    # 4) quick biomass stats (if present)\n",
    "    if \"biomass\" in result.flux_samples.columns:\n",
    "        paths[\"biomass_stats\"] = os.path.join(outdir, f\"{tag}_biomass_stats.csv\")\n",
    "        result.flux_samples[\"biomass\"].describe().to_csv(paths[\"biomass_stats\"])\n",
    "\n",
    "    print(f\"Saved outputs to {outdir}\")\n",
    "    return paths"
   ]
  },
  {
   "cell_type": "code",
   "execution_count": 16,
   "id": "67971a14-dd6f-4327-b3ef-355f3f80f723",
   "metadata": {},
   "outputs": [
    {
     "name": "stdout",
     "output_type": "stream",
     "text": [
      "Saved outputs to outputdata/mfit_outputs/ngo_0h_130\n"
     ]
    }
   ],
   "source": [
    "tag = \"ngo_0h_130\"\n",
    "paths = save_riptide_run(\n",
    "    result=mf_ngo_0h_130,\n",
    "    tag=tag,\n",
    "    base_dir=\"outputdata/mfit_outputs\",  # relative to cwd\n",
    "    original_model=ngo557\n",
    ")"
   ]
  },
  {
   "cell_type": "code",
   "execution_count": 17,
   "id": "312a9e7b-9e9d-4072-86e7-ebbd3ed470e1",
   "metadata": {},
   "outputs": [
    {
     "name": "stdout",
     "output_type": "stream",
     "text": [
      "Saved outputs to outputdata/mfit_outputs/ngo_1h_130\n"
     ]
    }
   ],
   "source": [
    "tag = \"ngo_1h_130\"\n",
    "paths = save_riptide_run(\n",
    "    result=mf_ngo_1h_130,\n",
    "    tag=tag,\n",
    "    base_dir=\"outputdata/mfit_outputs\",  # relative to cwd\n",
    "    original_model=ngo557\n",
    ")"
   ]
  },
  {
   "cell_type": "code",
   "execution_count": 18,
   "id": "a6a35758-b25b-4ccd-929b-b00d7ab1fd8d",
   "metadata": {},
   "outputs": [
    {
     "name": "stdout",
     "output_type": "stream",
     "text": [
      "Saved outputs to outputdata/mfit_outputs/ngo_0h_3x130\n"
     ]
    }
   ],
   "source": [
    "tag = \"ngo_0h_3x130\"\n",
    "paths = save_riptide_run(\n",
    "    result=mf_ngo_0h_3x130,\n",
    "    tag=tag,\n",
    "    base_dir=\"outputdata/mfit_outputs\",  # relative to cwd\n",
    "    original_model=ngo557\n",
    ")"
   ]
  },
  {
   "cell_type": "code",
   "execution_count": 19,
   "id": "e4f60c63-dba7-4abc-ae08-d96e6b2946b6",
   "metadata": {},
   "outputs": [
    {
     "name": "stdout",
     "output_type": "stream",
     "text": [
      "Saved outputs to outputdata/mfit_outputs/ngo_1h_3x130\n"
     ]
    }
   ],
   "source": [
    "tag = \"ngo_1h_3x130\"\n",
    "paths = save_riptide_run(\n",
    "    result=mf_ngo_1h_3x130,\n",
    "    tag=tag,\n",
    "    base_dir=\"outputdata/mfit_outputs\",  # relative to cwd\n",
    "    original_model=ngo557\n",
    ")"
   ]
  },
  {
   "cell_type": "code",
   "execution_count": 20,
   "id": "b3d4c35c-5d40-4c83-92dc-98af75f6ef8b",
   "metadata": {
    "editable": true,
    "slideshow": {
     "slide_type": ""
    },
    "tags": []
   },
   "outputs": [
    {
     "name": "stdout",
     "output_type": "stream",
     "text": [
      "Saved outputs to outputdata/mfit_outputs/ngo_0h_h041\n"
     ]
    }
   ],
   "source": [
    "tag = \"ngo_0h_h041\"\n",
    "paths = save_riptide_run(\n",
    "    result=mf_ngo_0h_h041,\n",
    "    tag=tag,\n",
    "    base_dir=\"outputdata/mfit_outputs\",  # relative to cwd\n",
    "    original_model=ngo557\n",
    ")"
   ]
  },
  {
   "cell_type": "code",
   "execution_count": 21,
   "id": "b078ab81-4d74-409f-ab57-80919fc5a209",
   "metadata": {},
   "outputs": [
    {
     "name": "stdout",
     "output_type": "stream",
     "text": [
      "Saved outputs to outputdata/mfit_outputs/ngo_1h_h041\n"
     ]
    }
   ],
   "source": [
    "tag = \"ngo_1h_h041\"\n",
    "paths = save_riptide_run(\n",
    "    result=mf_ngo_1h_h041,\n",
    "    tag=tag,\n",
    "    base_dir=\"outputdata/mfit_outputs\",  # relative to cwd\n",
    "    original_model=ngo557\n",
    ")"
   ]
  },
  {
   "cell_type": "code",
   "execution_count": null,
   "id": "4302d80b-9c4f-472b-8e18-c039eac5f63e",
   "metadata": {},
   "outputs": [],
   "source": []
  }
 ],
 "metadata": {
  "kernelspec": {
   "display_name": "Riptide 3.3.6",
   "language": "python",
   "name": "riptide_3.3.6"
  },
  "language_info": {
   "codemirror_mode": {
    "name": "ipython",
    "version": 3
   },
   "file_extension": ".py",
   "mimetype": "text/x-python",
   "name": "python",
   "nbconvert_exporter": "python",
   "pygments_lexer": "ipython3",
   "version": "3.13.5"
  }
 },
 "nbformat": 4,
 "nbformat_minor": 5
}
